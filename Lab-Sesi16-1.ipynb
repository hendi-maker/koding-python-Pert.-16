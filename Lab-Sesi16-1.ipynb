{
 "cells": [
  {
   "cell_type": "markdown",
   "metadata": {},
   "source": [
    "<img src=\"img/header.png\"></img>"
   ]
  },
  {
   "cell_type": "markdown",
   "metadata": {},
   "source": [
    "<h2> Tweepy untuk Data Crawler -> Cleaning (Tokenisasi, CaseFolding, Remove Karakter) </h2>"
   ]
  },
  {
   "cell_type": "code",
   "execution_count": 1,
   "metadata": {
    "collapsed": true
   },
   "outputs": [],
   "source": [
    "#!pip install tweepy"
   ]
  },
  {
   "cell_type": "code",
   "execution_count": 2,
   "metadata": {
    "collapsed": true
   },
   "outputs": [],
   "source": [
    "import tweepy\n",
    "import pandas as pd"
   ]
  },
  {
   "cell_type": "code",
   "execution_count": 3,
   "metadata": {
    "collapsed": true
   },
   "outputs": [],
   "source": [
    "consumer_key = \"JEj5tRSA9JWjWV6imMOrUIVWV\"        \n",
    "consumer_secret = \"7MEa00KHpUbjxble8pdlV74qPbvW2OHqLtjt45QQraJaAzRmAh\"\n",
    "access_token = \"935208713551364097-W9Oy0IS2M1dRUQS5MZ6Dnz18BkHUP80\"\n",
    "access_secret = \"jCANa7K7werTP2X1mnLlcRBFDHAJt9TZSCbC77FSNCj50\"\n",
    "\n",
    "auth = tweepy.OAuthHandler(consumer_key, consumer_secret)\n",
    "auth.set_access_token(access_token, access_secret)"
   ]
  },
  {
   "cell_type": "code",
   "execution_count": 4,
   "metadata": {
    "collapsed": true
   },
   "outputs": [],
   "source": [
    "api = tweepy.API(auth) # # Construct the API instance\n",
    "#api.update_status('tweepy + oauth!') # coba update status otomatis :D"
   ]
  },
  {
   "cell_type": "code",
   "execution_count": 5,
   "metadata": {},
   "outputs": [
    {
     "name": "stdout",
     "output_type": "stream",
     "text": [
      "BigDataFreeCode\n",
      "935208713551364097\n"
     ]
    }
   ],
   "source": [
    "user = api.get_user(935208713551364097)    \n",
    "print(user.screen_name)\n",
    "\n",
    "user = api.get_user(screen_name = 'BigDataFreeCode')\n",
    "print(user.id)"
   ]
  },
  {
   "cell_type": "code",
   "execution_count": 6,
   "metadata": {
    "collapsed": true
   },
   "outputs": [],
   "source": [
    "tweets = api.search(q=\"#detikcom\", lang=\"id\", count=10, tweet_mode=\"extended\")"
   ]
  },
  {
   "cell_type": "code",
   "execution_count": 7,
   "metadata": {
    "collapsed": true,
    "scrolled": true
   },
   "outputs": [],
   "source": [
    "all_tweets = []\n",
    "for tweet in tweets:\n",
    "    #print(\"--------------------\")\n",
    "    #print(tweet.full_text)\n",
    "    #print(\"--------------------\\n\")\n",
    "    all_tweets.append({\"text\": tweet.full_text})\n",
    "tweets_df = pd.DataFrame(all_tweets)"
   ]
  },
  {
   "cell_type": "code",
   "execution_count": 8,
   "metadata": {
    "scrolled": true
   },
   "outputs": [
    {
     "name": "stdout",
     "output_type": "stream",
     "text": [
      "[['Yah ga jdi melucu lagi deh...\\n◇\\n◇\\n#Artist #nunung #artiskomedy #kriminal #Trending #narkotika #narkoa #komedian #detikcom 📷Repost: @detikcom https://t.co/RQdWPgWR0f']\n",
      " ['Kaca film Spectrum Black dpn 60% skkb 80% WA: 0852 4414 5209 #detiknews #detikoto #detikcom #beritasatu #beritajatim #kompasiana #kompascom #kompasotomotif #like4likes #likeforlikes #avanzaxenia_indonesiaclub #likes… https://t.co/DoqZtyQlnr']\n",
      " ['RT @DwikoKusuma: @detikcom @detikhot Apa ya alasan @detikcom mempublikasikan artikel macam ini tanpa pikir panjang ? #detikcom #DennyCagur…']\n",
      " ['@detikcom @detikhot Apa ya alasan @detikcom mempublikasikan artikel macam ini tanpa pikir panjang ? #detikcom #DennyCagur #RaffiAhmad']\n",
      " [\"teruskan merajut merah putih, teruskan bangsa ini bersatu, jangan sampai pecah. Tapi soal kekuasaan, berikan kesempatan yang utuh pada Pak Jokowi-Ma'ruf Amin dengan nanti 5 tahun. Kita awasi dan itulah produk indah demokrasi.\\n#detikcom #detikdotcom #TahuDaridetikcom https://t.co/ErMtOM56gG\"]\n",
      " ['Keren...cakep...salut...merinding...kamu gmn bro? (admin)\\n.\\n#RYLAcademy #RYLifeCoach #RYLMotivasi #RYLWorkshop #detikdotcom #detikcom #indonesia #satuindonesia #nkri https://t.co/lrEkf753ui']]\n"
     ]
    }
   ],
   "source": [
    "print(tweets_df.values)"
   ]
  },
  {
   "cell_type": "code",
   "execution_count": 9,
   "metadata": {
    "collapsed": true
   },
   "outputs": [],
   "source": [
    "# export df to json\n",
    "tweets_df.to_json('Data Crawling Tweet 10-2.json')"
   ]
  },
  {
   "cell_type": "code",
   "execution_count": 10,
   "metadata": {},
   "outputs": [
    {
     "name": "stdout",
     "output_type": "stream",
     "text": [
      "                                                                                                                                                                                                                                                                                                                 text\n",
      "0                 teruskan merajut merah putih, teruskan bangsa ini bersatu, jangan sampai pecah. Tapi soal kekuasaan, berikan kesempatan yang utuh pada Pak Jokowi-Ma'ruf Amin dengan nanti 5 tahun. Kita awasi dan itulah produk indah demokrasi.\\n#detikcom #detikdotcom #TahuDaridetikcom https://t.co/ErMtOM56gG\n",
      "1                                                                                                                     Keren...cakep...salut...merinding...kamu gmn bro? (admin)\\n.\\n#RYLAcademy #RYLifeCoach #RYLMotivasi #RYLWorkshop #detikdotcom #detikcom #indonesia #satuindonesia #nkri https://t.co/lrEkf753ui\n",
      "2                                        #WAJIBTAHU #MMP #MALANGMARKETINGPROPERTY #JUALKEBUNAPEL #JUALMURAH #JUALKEBUN #KOTABATU #KOTASURABAYA #KOTAJAKARTA #KOTAMALANG #KABUPATENMALANG #RUMAH123 #KUMPARAN #OLX #BUKALAPAK #DETIKCOM HUBUNGI 08813459963 PAK KUS\\n\\nhttps://t.co/lYmbGszJzm https://t.co/q4LbQpfh34\n",
      "3  https://t.co/NoLhDeLaMQ\\n\\nAssalamu'alaikum Warahmatullahi Wabarakatuh.\\n#WAJIBTAHU #MMP #MALANGMARKETINGPROPERTY\\n#JUALRUMAHMURAH #RUMAH123 #KOTAMALANG #JUALBELIRUMAH #KOTASURABAYA\\n#RUMAHISLAMI #TOPNEWS #DETIKCOM #KUMPARAN #OLX\\n\\n*➡ INFO LENGKAP PASTIKAN HUB 08813459963 PAK KUS* https://t.co/lOmpaaxBE6\n",
      "4                        #WAJIBTAHU #MMP #MALANGMARKETINGPROPERTY #JUALRUMAH #TAKEOVERTANAH #KOTASURABAYA #KOTABONDOWOSO\\n#RUMAH123\\n#IKLANPROPERTI\\n#DETIKCOM\\n#KUMPARAN #OLX\\nDI TAKE OVERKAN PERUM ISLAMI PERTAMA &amp; TERBESAR DI JATIM.SDH SOLD 50 UNIT INFO HUB 08813459963 PAK KUS\\n\\nhttps://t.co/E1yQ1aVkcJ\n"
     ]
    }
   ],
   "source": [
    "# coba print json tersebut\n",
    "pd.options.display.max_colwidth = 500 # sesuaikan dgn maksimal karakter di tweet\n",
    "tweets_json_df = pd.read_json('Data Crawling Tweet 10.json')\n",
    "#print(tweets_json)\n",
    "print(tweets_json_df[:5])"
   ]
  },
  {
   "cell_type": "code",
   "execution_count": 11,
   "metadata": {
    "scrolled": true
   },
   "outputs": [
    {
     "name": "stdout",
     "output_type": "stream",
     "text": [
      "6\n"
     ]
    },
    {
     "data": {
      "text/plain": [
       "pandas.core.frame.DataFrame"
      ]
     },
     "execution_count": 11,
     "metadata": {},
     "output_type": "execute_result"
    }
   ],
   "source": [
    "# join all text\n",
    "print(len(tweets_json_df))\n",
    "type(tweets_json_df)"
   ]
  },
  {
   "cell_type": "code",
   "execution_count": 12,
   "metadata": {
    "scrolled": true
   },
   "outputs": [
    {
     "name": "stdout",
     "output_type": "stream",
     "text": [
      "[\"teruskan merajut merah putih, teruskan bangsa ini bersatu, jangan sampai pecah. Tapi soal kekuasaan, berikan kesempatan yang utuh pada Pak Jokowi-Ma'ruf Amin dengan nanti 5 tahun. Kita awasi dan itulah produk indah demokrasi.\\n#detikcom #detikdotcom #TahuDaridetikcom https://t.co/ErMtOM56gG\"]\n"
     ]
    }
   ],
   "source": [
    "print(tweets_json_df.loc[0].values)"
   ]
  },
  {
   "cell_type": "code",
   "execution_count": 13,
   "metadata": {},
   "outputs": [
    {
     "name": "stdout",
     "output_type": "stream",
     "text": [
      "                                                                                                                                                                                                                                                                                                                 text  \\\n",
      "0                 teruskan merajut merah putih, teruskan bangsa ini bersatu, jangan sampai pecah. Tapi soal kekuasaan, berikan kesempatan yang utuh pada Pak Jokowi-Ma'ruf Amin dengan nanti 5 tahun. Kita awasi dan itulah produk indah demokrasi.\\n#detikcom #detikdotcom #TahuDaridetikcom https://t.co/ErMtOM56gG   \n",
      "1                                                                                                                     Keren...cakep...salut...merinding...kamu gmn bro? (admin)\\n.\\n#RYLAcademy #RYLifeCoach #RYLMotivasi #RYLWorkshop #detikdotcom #detikcom #indonesia #satuindonesia #nkri https://t.co/lrEkf753ui   \n",
      "2                                        #WAJIBTAHU #MMP #MALANGMARKETINGPROPERTY #JUALKEBUNAPEL #JUALMURAH #JUALKEBUN #KOTABATU #KOTASURABAYA #KOTAJAKARTA #KOTAMALANG #KABUPATENMALANG #RUMAH123 #KUMPARAN #OLX #BUKALAPAK #DETIKCOM HUBUNGI 08813459963 PAK KUS\\n\\nhttps://t.co/lYmbGszJzm https://t.co/q4LbQpfh34   \n",
      "3  https://t.co/NoLhDeLaMQ\\n\\nAssalamu'alaikum Warahmatullahi Wabarakatuh.\\n#WAJIBTAHU #MMP #MALANGMARKETINGPROPERTY\\n#JUALRUMAHMURAH #RUMAH123 #KOTAMALANG #JUALBELIRUMAH #KOTASURABAYA\\n#RUMAHISLAMI #TOPNEWS #DETIKCOM #KUMPARAN #OLX\\n\\n*➡ INFO LENGKAP PASTIKAN HUB 08813459963 PAK KUS* https://t.co/lOmpaaxBE6   \n",
      "4                        #WAJIBTAHU #MMP #MALANGMARKETINGPROPERTY #JUALRUMAH #TAKEOVERTANAH #KOTASURABAYA #KOTABONDOWOSO\\n#RUMAH123\\n#IKLANPROPERTI\\n#DETIKCOM\\n#KUMPARAN #OLX\\nDI TAKE OVERKAN PERUM ISLAMI PERTAMA &amp; TERBESAR DI JATIM.SDH SOLD 50 UNIT INFO HUB 08813459963 PAK KUS\\n\\nhttps://t.co/E1yQ1aVkcJ   \n",
      "5                                                          Kapolrestabes Surabaya Beserta Staf dan Bhayangkari \\nMengucapkan \\nSelamat Ulang Tahun Ke-21 https://t.co/eNNn0bvjdr.\\n.\\n.\\n#detikcom \\n#polisiistimewa \\n#bapaknyabrimob \\n#brimoppolri \\n#brimob \\n#mjasin \\n#komjenpolmjasin… https://t.co/k41Ax4FP53   \n",
      "\n",
      "   count  \n",
      "0     37  \n",
      "1     15  \n",
      "2     22  \n",
      "3     26  \n",
      "4     31  \n",
      "5     22  \n"
     ]
    }
   ],
   "source": [
    "tweets_json_df['count'] = tweets_json_df['text'].str.split().str.len()\n",
    "\n",
    "print(tweets_json_df)"
   ]
  },
  {
   "cell_type": "code",
   "execution_count": 14,
   "metadata": {
    "collapsed": true,
    "scrolled": true
   },
   "outputs": [],
   "source": [
    "#update status\n",
    "#api.update_status('a a b c d d e') # coba update status otomatis :D\n",
    "#api.update_status('a b b d')\n",
    "\n",
    "#api.update_status('#CloudComputing Filkom UB Digital Talent 2019'); # menambah tanda \";\" untuk hide output\n"
   ]
  },
  {
   "cell_type": "code",
   "execution_count": 15,
   "metadata": {},
   "outputs": [
    {
     "name": "stdout",
     "output_type": "stream",
     "text": [
      "tweepy + oauth!\n",
      "Status(_api=<tweepy.api.API object at 0x00000201EA2C16A0>, _json={'created_at': 'Sun Jul 21 05:54:20 +0000 2019', 'id': 1152819074528927744, 'id_str': '1152819074528927744', 'full_text': 'tweepy + oauth!', 'truncated': False, 'display_text_range': [0, 15], 'entities': {'hashtags': [], 'symbols': [], 'user_mentions': [], 'urls': []}, 'source': '<a href=\"https://bigdatafreecode.wordpress.com/\" rel=\"nofollow\">PyTwitter-Stream-Mining</a>', 'in_reply_to_status_id': None, 'in_reply_to_status_id_str': None, 'in_reply_to_user_id': None, 'in_reply_to_user_id_str': None, 'in_reply_to_screen_name': None, 'user': {'id': 935208713551364097, 'id_str': '935208713551364097', 'name': 'Big Data Free Code', 'screen_name': 'BigDataFreeCode', 'location': '', 'description': '', 'url': None, 'entities': {'description': {'urls': []}}, 'protected': False, 'followers_count': 1, 'friends_count': 49, 'listed_count': 0, 'created_at': 'Mon Nov 27 18:08:27 +0000 2017', 'favourites_count': 0, 'utc_offset': None, 'time_zone': None, 'geo_enabled': False, 'verified': False, 'statuses_count': 10, 'lang': None, 'contributors_enabled': False, 'is_translator': False, 'is_translation_enabled': False, 'profile_background_color': 'F5F8FA', 'profile_background_image_url': None, 'profile_background_image_url_https': None, 'profile_background_tile': False, 'profile_image_url': 'http://pbs.twimg.com/profile_images/935210566599065600/aebyHgPV_normal.jpg', 'profile_image_url_https': 'https://pbs.twimg.com/profile_images/935210566599065600/aebyHgPV_normal.jpg', 'profile_link_color': '1DA1F2', 'profile_sidebar_border_color': 'C0DEED', 'profile_sidebar_fill_color': 'DDEEF6', 'profile_text_color': '333333', 'profile_use_background_image': True, 'has_extended_profile': False, 'default_profile': True, 'default_profile_image': False, 'following': False, 'follow_request_sent': False, 'notifications': False, 'translator_type': 'none'}, 'geo': None, 'coordinates': None, 'place': None, 'contributors': None, 'is_quote_status': False, 'retweet_count': 0, 'favorite_count': 0, 'favorited': False, 'retweeted': False, 'lang': 'en'}, created_at=datetime.datetime(2019, 7, 21, 5, 54, 20), id=1152819074528927744, id_str='1152819074528927744', full_text='tweepy + oauth!', truncated=False, display_text_range=[0, 15], entities={'hashtags': [], 'symbols': [], 'user_mentions': [], 'urls': []}, source='PyTwitter-Stream-Mining', source_url='https://bigdatafreecode.wordpress.com/', in_reply_to_status_id=None, in_reply_to_status_id_str=None, in_reply_to_user_id=None, in_reply_to_user_id_str=None, in_reply_to_screen_name=None, author=User(_api=<tweepy.api.API object at 0x00000201EA2C16A0>, _json={'id': 935208713551364097, 'id_str': '935208713551364097', 'name': 'Big Data Free Code', 'screen_name': 'BigDataFreeCode', 'location': '', 'description': '', 'url': None, 'entities': {'description': {'urls': []}}, 'protected': False, 'followers_count': 1, 'friends_count': 49, 'listed_count': 0, 'created_at': 'Mon Nov 27 18:08:27 +0000 2017', 'favourites_count': 0, 'utc_offset': None, 'time_zone': None, 'geo_enabled': False, 'verified': False, 'statuses_count': 10, 'lang': None, 'contributors_enabled': False, 'is_translator': False, 'is_translation_enabled': False, 'profile_background_color': 'F5F8FA', 'profile_background_image_url': None, 'profile_background_image_url_https': None, 'profile_background_tile': False, 'profile_image_url': 'http://pbs.twimg.com/profile_images/935210566599065600/aebyHgPV_normal.jpg', 'profile_image_url_https': 'https://pbs.twimg.com/profile_images/935210566599065600/aebyHgPV_normal.jpg', 'profile_link_color': '1DA1F2', 'profile_sidebar_border_color': 'C0DEED', 'profile_sidebar_fill_color': 'DDEEF6', 'profile_text_color': '333333', 'profile_use_background_image': True, 'has_extended_profile': False, 'default_profile': True, 'default_profile_image': False, 'following': False, 'follow_request_sent': False, 'notifications': False, 'translator_type': 'none'}, id=935208713551364097, id_str='935208713551364097', name='Big Data Free Code', screen_name='BigDataFreeCode', location='', description='', url=None, entities={'description': {'urls': []}}, protected=False, followers_count=1, friends_count=49, listed_count=0, created_at=datetime.datetime(2017, 11, 27, 18, 8, 27), favourites_count=0, utc_offset=None, time_zone=None, geo_enabled=False, verified=False, statuses_count=10, lang=None, contributors_enabled=False, is_translator=False, is_translation_enabled=False, profile_background_color='F5F8FA', profile_background_image_url=None, profile_background_image_url_https=None, profile_background_tile=False, profile_image_url='http://pbs.twimg.com/profile_images/935210566599065600/aebyHgPV_normal.jpg', profile_image_url_https='https://pbs.twimg.com/profile_images/935210566599065600/aebyHgPV_normal.jpg', profile_link_color='1DA1F2', profile_sidebar_border_color='C0DEED', profile_sidebar_fill_color='DDEEF6', profile_text_color='333333', profile_use_background_image=True, has_extended_profile=False, default_profile=True, default_profile_image=False, following=False, follow_request_sent=False, notifications=False, translator_type='none'), user=User(_api=<tweepy.api.API object at 0x00000201EA2C16A0>, _json={'id': 935208713551364097, 'id_str': '935208713551364097', 'name': 'Big Data Free Code', 'screen_name': 'BigDataFreeCode', 'location': '', 'description': '', 'url': None, 'entities': {'description': {'urls': []}}, 'protected': False, 'followers_count': 1, 'friends_count': 49, 'listed_count': 0, 'created_at': 'Mon Nov 27 18:08:27 +0000 2017', 'favourites_count': 0, 'utc_offset': None, 'time_zone': None, 'geo_enabled': False, 'verified': False, 'statuses_count': 10, 'lang': None, 'contributors_enabled': False, 'is_translator': False, 'is_translation_enabled': False, 'profile_background_color': 'F5F8FA', 'profile_background_image_url': None, 'profile_background_image_url_https': None, 'profile_background_tile': False, 'profile_image_url': 'http://pbs.twimg.com/profile_images/935210566599065600/aebyHgPV_normal.jpg', 'profile_image_url_https': 'https://pbs.twimg.com/profile_images/935210566599065600/aebyHgPV_normal.jpg', 'profile_link_color': '1DA1F2', 'profile_sidebar_border_color': 'C0DEED', 'profile_sidebar_fill_color': 'DDEEF6', 'profile_text_color': '333333', 'profile_use_background_image': True, 'has_extended_profile': False, 'default_profile': True, 'default_profile_image': False, 'following': False, 'follow_request_sent': False, 'notifications': False, 'translator_type': 'none'}, id=935208713551364097, id_str='935208713551364097', name='Big Data Free Code', screen_name='BigDataFreeCode', location='', description='', url=None, entities={'description': {'urls': []}}, protected=False, followers_count=1, friends_count=49, listed_count=0, created_at=datetime.datetime(2017, 11, 27, 18, 8, 27), favourites_count=0, utc_offset=None, time_zone=None, geo_enabled=False, verified=False, statuses_count=10, lang=None, contributors_enabled=False, is_translator=False, is_translation_enabled=False, profile_background_color='F5F8FA', profile_background_image_url=None, profile_background_image_url_https=None, profile_background_tile=False, profile_image_url='http://pbs.twimg.com/profile_images/935210566599065600/aebyHgPV_normal.jpg', profile_image_url_https='https://pbs.twimg.com/profile_images/935210566599065600/aebyHgPV_normal.jpg', profile_link_color='1DA1F2', profile_sidebar_border_color='C0DEED', profile_sidebar_fill_color='DDEEF6', profile_text_color='333333', profile_use_background_image=True, has_extended_profile=False, default_profile=True, default_profile_image=False, following=False, follow_request_sent=False, notifications=False, translator_type='none'), geo=None, coordinates=None, place=None, contributors=None, is_quote_status=False, retweet_count=0, favorite_count=0, favorited=False, retweeted=False, lang='en')\n",
      "#CloudComputing Filkom UB Digital Talent 2019\n",
      "Status(_api=<tweepy.api.API object at 0x00000201EA2C16A0>, _json={'created_at': 'Sat Jul 20 07:22:25 +0000 2019', 'id': 1152478853870174208, 'id_str': '1152478853870174208', 'full_text': '#CloudComputing Filkom UB Digital Talent 2019', 'truncated': False, 'display_text_range': [0, 45], 'entities': {'hashtags': [{'text': 'CloudComputing', 'indices': [0, 15]}], 'symbols': [], 'user_mentions': [], 'urls': []}, 'source': '<a href=\"https://bigdatafreecode.wordpress.com/\" rel=\"nofollow\">PyTwitter-Stream-Mining</a>', 'in_reply_to_status_id': None, 'in_reply_to_status_id_str': None, 'in_reply_to_user_id': None, 'in_reply_to_user_id_str': None, 'in_reply_to_screen_name': None, 'user': {'id': 935208713551364097, 'id_str': '935208713551364097', 'name': 'Big Data Free Code', 'screen_name': 'BigDataFreeCode', 'location': '', 'description': '', 'url': None, 'entities': {'description': {'urls': []}}, 'protected': False, 'followers_count': 1, 'friends_count': 49, 'listed_count': 0, 'created_at': 'Mon Nov 27 18:08:27 +0000 2017', 'favourites_count': 0, 'utc_offset': None, 'time_zone': None, 'geo_enabled': False, 'verified': False, 'statuses_count': 10, 'lang': None, 'contributors_enabled': False, 'is_translator': False, 'is_translation_enabled': False, 'profile_background_color': 'F5F8FA', 'profile_background_image_url': None, 'profile_background_image_url_https': None, 'profile_background_tile': False, 'profile_image_url': 'http://pbs.twimg.com/profile_images/935210566599065600/aebyHgPV_normal.jpg', 'profile_image_url_https': 'https://pbs.twimg.com/profile_images/935210566599065600/aebyHgPV_normal.jpg', 'profile_link_color': '1DA1F2', 'profile_sidebar_border_color': 'C0DEED', 'profile_sidebar_fill_color': 'DDEEF6', 'profile_text_color': '333333', 'profile_use_background_image': True, 'has_extended_profile': False, 'default_profile': True, 'default_profile_image': False, 'following': False, 'follow_request_sent': False, 'notifications': False, 'translator_type': 'none'}, 'geo': None, 'coordinates': None, 'place': None, 'contributors': None, 'is_quote_status': False, 'retweet_count': 0, 'favorite_count': 0, 'favorited': False, 'retweeted': False, 'lang': 'da'}, created_at=datetime.datetime(2019, 7, 20, 7, 22, 25), id=1152478853870174208, id_str='1152478853870174208', full_text='#CloudComputing Filkom UB Digital Talent 2019', truncated=False, display_text_range=[0, 45], entities={'hashtags': [{'text': 'CloudComputing', 'indices': [0, 15]}], 'symbols': [], 'user_mentions': [], 'urls': []}, source='PyTwitter-Stream-Mining', source_url='https://bigdatafreecode.wordpress.com/', in_reply_to_status_id=None, in_reply_to_status_id_str=None, in_reply_to_user_id=None, in_reply_to_user_id_str=None, in_reply_to_screen_name=None, author=User(_api=<tweepy.api.API object at 0x00000201EA2C16A0>, _json={'id': 935208713551364097, 'id_str': '935208713551364097', 'name': 'Big Data Free Code', 'screen_name': 'BigDataFreeCode', 'location': '', 'description': '', 'url': None, 'entities': {'description': {'urls': []}}, 'protected': False, 'followers_count': 1, 'friends_count': 49, 'listed_count': 0, 'created_at': 'Mon Nov 27 18:08:27 +0000 2017', 'favourites_count': 0, 'utc_offset': None, 'time_zone': None, 'geo_enabled': False, 'verified': False, 'statuses_count': 10, 'lang': None, 'contributors_enabled': False, 'is_translator': False, 'is_translation_enabled': False, 'profile_background_color': 'F5F8FA', 'profile_background_image_url': None, 'profile_background_image_url_https': None, 'profile_background_tile': False, 'profile_image_url': 'http://pbs.twimg.com/profile_images/935210566599065600/aebyHgPV_normal.jpg', 'profile_image_url_https': 'https://pbs.twimg.com/profile_images/935210566599065600/aebyHgPV_normal.jpg', 'profile_link_color': '1DA1F2', 'profile_sidebar_border_color': 'C0DEED', 'profile_sidebar_fill_color': 'DDEEF6', 'profile_text_color': '333333', 'profile_use_background_image': True, 'has_extended_profile': False, 'default_profile': True, 'default_profile_image': False, 'following': False, 'follow_request_sent': False, 'notifications': False, 'translator_type': 'none'}, id=935208713551364097, id_str='935208713551364097', name='Big Data Free Code', screen_name='BigDataFreeCode', location='', description='', url=None, entities={'description': {'urls': []}}, protected=False, followers_count=1, friends_count=49, listed_count=0, created_at=datetime.datetime(2017, 11, 27, 18, 8, 27), favourites_count=0, utc_offset=None, time_zone=None, geo_enabled=False, verified=False, statuses_count=10, lang=None, contributors_enabled=False, is_translator=False, is_translation_enabled=False, profile_background_color='F5F8FA', profile_background_image_url=None, profile_background_image_url_https=None, profile_background_tile=False, profile_image_url='http://pbs.twimg.com/profile_images/935210566599065600/aebyHgPV_normal.jpg', profile_image_url_https='https://pbs.twimg.com/profile_images/935210566599065600/aebyHgPV_normal.jpg', profile_link_color='1DA1F2', profile_sidebar_border_color='C0DEED', profile_sidebar_fill_color='DDEEF6', profile_text_color='333333', profile_use_background_image=True, has_extended_profile=False, default_profile=True, default_profile_image=False, following=False, follow_request_sent=False, notifications=False, translator_type='none'), user=User(_api=<tweepy.api.API object at 0x00000201EA2C16A0>, _json={'id': 935208713551364097, 'id_str': '935208713551364097', 'name': 'Big Data Free Code', 'screen_name': 'BigDataFreeCode', 'location': '', 'description': '', 'url': None, 'entities': {'description': {'urls': []}}, 'protected': False, 'followers_count': 1, 'friends_count': 49, 'listed_count': 0, 'created_at': 'Mon Nov 27 18:08:27 +0000 2017', 'favourites_count': 0, 'utc_offset': None, 'time_zone': None, 'geo_enabled': False, 'verified': False, 'statuses_count': 10, 'lang': None, 'contributors_enabled': False, 'is_translator': False, 'is_translation_enabled': False, 'profile_background_color': 'F5F8FA', 'profile_background_image_url': None, 'profile_background_image_url_https': None, 'profile_background_tile': False, 'profile_image_url': 'http://pbs.twimg.com/profile_images/935210566599065600/aebyHgPV_normal.jpg', 'profile_image_url_https': 'https://pbs.twimg.com/profile_images/935210566599065600/aebyHgPV_normal.jpg', 'profile_link_color': '1DA1F2', 'profile_sidebar_border_color': 'C0DEED', 'profile_sidebar_fill_color': 'DDEEF6', 'profile_text_color': '333333', 'profile_use_background_image': True, 'has_extended_profile': False, 'default_profile': True, 'default_profile_image': False, 'following': False, 'follow_request_sent': False, 'notifications': False, 'translator_type': 'none'}, id=935208713551364097, id_str='935208713551364097', name='Big Data Free Code', screen_name='BigDataFreeCode', location='', description='', url=None, entities={'description': {'urls': []}}, protected=False, followers_count=1, friends_count=49, listed_count=0, created_at=datetime.datetime(2017, 11, 27, 18, 8, 27), favourites_count=0, utc_offset=None, time_zone=None, geo_enabled=False, verified=False, statuses_count=10, lang=None, contributors_enabled=False, is_translator=False, is_translation_enabled=False, profile_background_color='F5F8FA', profile_background_image_url=None, profile_background_image_url_https=None, profile_background_tile=False, profile_image_url='http://pbs.twimg.com/profile_images/935210566599065600/aebyHgPV_normal.jpg', profile_image_url_https='https://pbs.twimg.com/profile_images/935210566599065600/aebyHgPV_normal.jpg', profile_link_color='1DA1F2', profile_sidebar_border_color='C0DEED', profile_sidebar_fill_color='DDEEF6', profile_text_color='333333', profile_use_background_image=True, has_extended_profile=False, default_profile=True, default_profile_image=False, following=False, follow_request_sent=False, notifications=False, translator_type='none'), geo=None, coordinates=None, place=None, contributors=None, is_quote_status=False, retweet_count=0, favorite_count=0, favorited=False, retweeted=False, lang='da')\n",
      "#BigDataFilkomUB Digital Talent 2019\n",
      "Status(_api=<tweepy.api.API object at 0x00000201EA2C16A0>, _json={'created_at': 'Sat Jul 20 07:18:53 +0000 2019', 'id': 1152477966695190528, 'id_str': '1152477966695190528', 'full_text': '#BigDataFilkomUB Digital Talent 2019', 'truncated': False, 'display_text_range': [0, 36], 'entities': {'hashtags': [{'text': 'BigDataFilkomUB', 'indices': [0, 16]}], 'symbols': [], 'user_mentions': [], 'urls': []}, 'source': '<a href=\"https://bigdatafreecode.wordpress.com/\" rel=\"nofollow\">PyTwitter-Stream-Mining</a>', 'in_reply_to_status_id': None, 'in_reply_to_status_id_str': None, 'in_reply_to_user_id': None, 'in_reply_to_user_id_str': None, 'in_reply_to_screen_name': None, 'user': {'id': 935208713551364097, 'id_str': '935208713551364097', 'name': 'Big Data Free Code', 'screen_name': 'BigDataFreeCode', 'location': '', 'description': '', 'url': None, 'entities': {'description': {'urls': []}}, 'protected': False, 'followers_count': 1, 'friends_count': 49, 'listed_count': 0, 'created_at': 'Mon Nov 27 18:08:27 +0000 2017', 'favourites_count': 0, 'utc_offset': None, 'time_zone': None, 'geo_enabled': False, 'verified': False, 'statuses_count': 10, 'lang': None, 'contributors_enabled': False, 'is_translator': False, 'is_translation_enabled': False, 'profile_background_color': 'F5F8FA', 'profile_background_image_url': None, 'profile_background_image_url_https': None, 'profile_background_tile': False, 'profile_image_url': 'http://pbs.twimg.com/profile_images/935210566599065600/aebyHgPV_normal.jpg', 'profile_image_url_https': 'https://pbs.twimg.com/profile_images/935210566599065600/aebyHgPV_normal.jpg', 'profile_link_color': '1DA1F2', 'profile_sidebar_border_color': 'C0DEED', 'profile_sidebar_fill_color': 'DDEEF6', 'profile_text_color': '333333', 'profile_use_background_image': True, 'has_extended_profile': False, 'default_profile': True, 'default_profile_image': False, 'following': False, 'follow_request_sent': False, 'notifications': False, 'translator_type': 'none'}, 'geo': None, 'coordinates': None, 'place': None, 'contributors': None, 'is_quote_status': False, 'retweet_count': 0, 'favorite_count': 0, 'favorited': False, 'retweeted': False, 'lang': 'es'}, created_at=datetime.datetime(2019, 7, 20, 7, 18, 53), id=1152477966695190528, id_str='1152477966695190528', full_text='#BigDataFilkomUB Digital Talent 2019', truncated=False, display_text_range=[0, 36], entities={'hashtags': [{'text': 'BigDataFilkomUB', 'indices': [0, 16]}], 'symbols': [], 'user_mentions': [], 'urls': []}, source='PyTwitter-Stream-Mining', source_url='https://bigdatafreecode.wordpress.com/', in_reply_to_status_id=None, in_reply_to_status_id_str=None, in_reply_to_user_id=None, in_reply_to_user_id_str=None, in_reply_to_screen_name=None, author=User(_api=<tweepy.api.API object at 0x00000201EA2C16A0>, _json={'id': 935208713551364097, 'id_str': '935208713551364097', 'name': 'Big Data Free Code', 'screen_name': 'BigDataFreeCode', 'location': '', 'description': '', 'url': None, 'entities': {'description': {'urls': []}}, 'protected': False, 'followers_count': 1, 'friends_count': 49, 'listed_count': 0, 'created_at': 'Mon Nov 27 18:08:27 +0000 2017', 'favourites_count': 0, 'utc_offset': None, 'time_zone': None, 'geo_enabled': False, 'verified': False, 'statuses_count': 10, 'lang': None, 'contributors_enabled': False, 'is_translator': False, 'is_translation_enabled': False, 'profile_background_color': 'F5F8FA', 'profile_background_image_url': None, 'profile_background_image_url_https': None, 'profile_background_tile': False, 'profile_image_url': 'http://pbs.twimg.com/profile_images/935210566599065600/aebyHgPV_normal.jpg', 'profile_image_url_https': 'https://pbs.twimg.com/profile_images/935210566599065600/aebyHgPV_normal.jpg', 'profile_link_color': '1DA1F2', 'profile_sidebar_border_color': 'C0DEED', 'profile_sidebar_fill_color': 'DDEEF6', 'profile_text_color': '333333', 'profile_use_background_image': True, 'has_extended_profile': False, 'default_profile': True, 'default_profile_image': False, 'following': False, 'follow_request_sent': False, 'notifications': False, 'translator_type': 'none'}, id=935208713551364097, id_str='935208713551364097', name='Big Data Free Code', screen_name='BigDataFreeCode', location='', description='', url=None, entities={'description': {'urls': []}}, protected=False, followers_count=1, friends_count=49, listed_count=0, created_at=datetime.datetime(2017, 11, 27, 18, 8, 27), favourites_count=0, utc_offset=None, time_zone=None, geo_enabled=False, verified=False, statuses_count=10, lang=None, contributors_enabled=False, is_translator=False, is_translation_enabled=False, profile_background_color='F5F8FA', profile_background_image_url=None, profile_background_image_url_https=None, profile_background_tile=False, profile_image_url='http://pbs.twimg.com/profile_images/935210566599065600/aebyHgPV_normal.jpg', profile_image_url_https='https://pbs.twimg.com/profile_images/935210566599065600/aebyHgPV_normal.jpg', profile_link_color='1DA1F2', profile_sidebar_border_color='C0DEED', profile_sidebar_fill_color='DDEEF6', profile_text_color='333333', profile_use_background_image=True, has_extended_profile=False, default_profile=True, default_profile_image=False, following=False, follow_request_sent=False, notifications=False, translator_type='none'), user=User(_api=<tweepy.api.API object at 0x00000201EA2C16A0>, _json={'id': 935208713551364097, 'id_str': '935208713551364097', 'name': 'Big Data Free Code', 'screen_name': 'BigDataFreeCode', 'location': '', 'description': '', 'url': None, 'entities': {'description': {'urls': []}}, 'protected': False, 'followers_count': 1, 'friends_count': 49, 'listed_count': 0, 'created_at': 'Mon Nov 27 18:08:27 +0000 2017', 'favourites_count': 0, 'utc_offset': None, 'time_zone': None, 'geo_enabled': False, 'verified': False, 'statuses_count': 10, 'lang': None, 'contributors_enabled': False, 'is_translator': False, 'is_translation_enabled': False, 'profile_background_color': 'F5F8FA', 'profile_background_image_url': None, 'profile_background_image_url_https': None, 'profile_background_tile': False, 'profile_image_url': 'http://pbs.twimg.com/profile_images/935210566599065600/aebyHgPV_normal.jpg', 'profile_image_url_https': 'https://pbs.twimg.com/profile_images/935210566599065600/aebyHgPV_normal.jpg', 'profile_link_color': '1DA1F2', 'profile_sidebar_border_color': 'C0DEED', 'profile_sidebar_fill_color': 'DDEEF6', 'profile_text_color': '333333', 'profile_use_background_image': True, 'has_extended_profile': False, 'default_profile': True, 'default_profile_image': False, 'following': False, 'follow_request_sent': False, 'notifications': False, 'translator_type': 'none'}, id=935208713551364097, id_str='935208713551364097', name='Big Data Free Code', screen_name='BigDataFreeCode', location='', description='', url=None, entities={'description': {'urls': []}}, protected=False, followers_count=1, friends_count=49, listed_count=0, created_at=datetime.datetime(2017, 11, 27, 18, 8, 27), favourites_count=0, utc_offset=None, time_zone=None, geo_enabled=False, verified=False, statuses_count=10, lang=None, contributors_enabled=False, is_translator=False, is_translation_enabled=False, profile_background_color='F5F8FA', profile_background_image_url=None, profile_background_image_url_https=None, profile_background_tile=False, profile_image_url='http://pbs.twimg.com/profile_images/935210566599065600/aebyHgPV_normal.jpg', profile_image_url_https='https://pbs.twimg.com/profile_images/935210566599065600/aebyHgPV_normal.jpg', profile_link_color='1DA1F2', profile_sidebar_border_color='C0DEED', profile_sidebar_fill_color='DDEEF6', profile_text_color='333333', profile_use_background_image=True, has_extended_profile=False, default_profile=True, default_profile_image=False, following=False, follow_request_sent=False, notifications=False, translator_type='none'), geo=None, coordinates=None, place=None, contributors=None, is_quote_status=False, retweet_count=0, favorite_count=0, favorited=False, retweeted=False, lang='es')\n",
      "tweepy + auth!\n",
      "Status(_api=<tweepy.api.API object at 0x00000201EA2C16A0>, _json={'created_at': 'Fri Jul 19 04:06:50 +0000 2019', 'id': 1152067245440479232, 'id_str': '1152067245440479232', 'full_text': 'tweepy + auth!', 'truncated': False, 'display_text_range': [0, 14], 'entities': {'hashtags': [], 'symbols': [], 'user_mentions': [], 'urls': []}, 'source': '<a href=\"https://bigdatafreecode.wordpress.com/\" rel=\"nofollow\">PyTwitter-Stream-Mining</a>', 'in_reply_to_status_id': None, 'in_reply_to_status_id_str': None, 'in_reply_to_user_id': None, 'in_reply_to_user_id_str': None, 'in_reply_to_screen_name': None, 'user': {'id': 935208713551364097, 'id_str': '935208713551364097', 'name': 'Big Data Free Code', 'screen_name': 'BigDataFreeCode', 'location': '', 'description': '', 'url': None, 'entities': {'description': {'urls': []}}, 'protected': False, 'followers_count': 1, 'friends_count': 49, 'listed_count': 0, 'created_at': 'Mon Nov 27 18:08:27 +0000 2017', 'favourites_count': 0, 'utc_offset': None, 'time_zone': None, 'geo_enabled': False, 'verified': False, 'statuses_count': 10, 'lang': None, 'contributors_enabled': False, 'is_translator': False, 'is_translation_enabled': False, 'profile_background_color': 'F5F8FA', 'profile_background_image_url': None, 'profile_background_image_url_https': None, 'profile_background_tile': False, 'profile_image_url': 'http://pbs.twimg.com/profile_images/935210566599065600/aebyHgPV_normal.jpg', 'profile_image_url_https': 'https://pbs.twimg.com/profile_images/935210566599065600/aebyHgPV_normal.jpg', 'profile_link_color': '1DA1F2', 'profile_sidebar_border_color': 'C0DEED', 'profile_sidebar_fill_color': 'DDEEF6', 'profile_text_color': '333333', 'profile_use_background_image': True, 'has_extended_profile': False, 'default_profile': True, 'default_profile_image': False, 'following': False, 'follow_request_sent': False, 'notifications': False, 'translator_type': 'none'}, 'geo': None, 'coordinates': None, 'place': None, 'contributors': None, 'is_quote_status': False, 'retweet_count': 0, 'favorite_count': 0, 'favorited': False, 'retweeted': False, 'lang': 'en'}, created_at=datetime.datetime(2019, 7, 19, 4, 6, 50), id=1152067245440479232, id_str='1152067245440479232', full_text='tweepy + auth!', truncated=False, display_text_range=[0, 14], entities={'hashtags': [], 'symbols': [], 'user_mentions': [], 'urls': []}, source='PyTwitter-Stream-Mining', source_url='https://bigdatafreecode.wordpress.com/', in_reply_to_status_id=None, in_reply_to_status_id_str=None, in_reply_to_user_id=None, in_reply_to_user_id_str=None, in_reply_to_screen_name=None, author=User(_api=<tweepy.api.API object at 0x00000201EA2C16A0>, _json={'id': 935208713551364097, 'id_str': '935208713551364097', 'name': 'Big Data Free Code', 'screen_name': 'BigDataFreeCode', 'location': '', 'description': '', 'url': None, 'entities': {'description': {'urls': []}}, 'protected': False, 'followers_count': 1, 'friends_count': 49, 'listed_count': 0, 'created_at': 'Mon Nov 27 18:08:27 +0000 2017', 'favourites_count': 0, 'utc_offset': None, 'time_zone': None, 'geo_enabled': False, 'verified': False, 'statuses_count': 10, 'lang': None, 'contributors_enabled': False, 'is_translator': False, 'is_translation_enabled': False, 'profile_background_color': 'F5F8FA', 'profile_background_image_url': None, 'profile_background_image_url_https': None, 'profile_background_tile': False, 'profile_image_url': 'http://pbs.twimg.com/profile_images/935210566599065600/aebyHgPV_normal.jpg', 'profile_image_url_https': 'https://pbs.twimg.com/profile_images/935210566599065600/aebyHgPV_normal.jpg', 'profile_link_color': '1DA1F2', 'profile_sidebar_border_color': 'C0DEED', 'profile_sidebar_fill_color': 'DDEEF6', 'profile_text_color': '333333', 'profile_use_background_image': True, 'has_extended_profile': False, 'default_profile': True, 'default_profile_image': False, 'following': False, 'follow_request_sent': False, 'notifications': False, 'translator_type': 'none'}, id=935208713551364097, id_str='935208713551364097', name='Big Data Free Code', screen_name='BigDataFreeCode', location='', description='', url=None, entities={'description': {'urls': []}}, protected=False, followers_count=1, friends_count=49, listed_count=0, created_at=datetime.datetime(2017, 11, 27, 18, 8, 27), favourites_count=0, utc_offset=None, time_zone=None, geo_enabled=False, verified=False, statuses_count=10, lang=None, contributors_enabled=False, is_translator=False, is_translation_enabled=False, profile_background_color='F5F8FA', profile_background_image_url=None, profile_background_image_url_https=None, profile_background_tile=False, profile_image_url='http://pbs.twimg.com/profile_images/935210566599065600/aebyHgPV_normal.jpg', profile_image_url_https='https://pbs.twimg.com/profile_images/935210566599065600/aebyHgPV_normal.jpg', profile_link_color='1DA1F2', profile_sidebar_border_color='C0DEED', profile_sidebar_fill_color='DDEEF6', profile_text_color='333333', profile_use_background_image=True, has_extended_profile=False, default_profile=True, default_profile_image=False, following=False, follow_request_sent=False, notifications=False, translator_type='none'), user=User(_api=<tweepy.api.API object at 0x00000201EA2C16A0>, _json={'id': 935208713551364097, 'id_str': '935208713551364097', 'name': 'Big Data Free Code', 'screen_name': 'BigDataFreeCode', 'location': '', 'description': '', 'url': None, 'entities': {'description': {'urls': []}}, 'protected': False, 'followers_count': 1, 'friends_count': 49, 'listed_count': 0, 'created_at': 'Mon Nov 27 18:08:27 +0000 2017', 'favourites_count': 0, 'utc_offset': None, 'time_zone': None, 'geo_enabled': False, 'verified': False, 'statuses_count': 10, 'lang': None, 'contributors_enabled': False, 'is_translator': False, 'is_translation_enabled': False, 'profile_background_color': 'F5F8FA', 'profile_background_image_url': None, 'profile_background_image_url_https': None, 'profile_background_tile': False, 'profile_image_url': 'http://pbs.twimg.com/profile_images/935210566599065600/aebyHgPV_normal.jpg', 'profile_image_url_https': 'https://pbs.twimg.com/profile_images/935210566599065600/aebyHgPV_normal.jpg', 'profile_link_color': '1DA1F2', 'profile_sidebar_border_color': 'C0DEED', 'profile_sidebar_fill_color': 'DDEEF6', 'profile_text_color': '333333', 'profile_use_background_image': True, 'has_extended_profile': False, 'default_profile': True, 'default_profile_image': False, 'following': False, 'follow_request_sent': False, 'notifications': False, 'translator_type': 'none'}, id=935208713551364097, id_str='935208713551364097', name='Big Data Free Code', screen_name='BigDataFreeCode', location='', description='', url=None, entities={'description': {'urls': []}}, protected=False, followers_count=1, friends_count=49, listed_count=0, created_at=datetime.datetime(2017, 11, 27, 18, 8, 27), favourites_count=0, utc_offset=None, time_zone=None, geo_enabled=False, verified=False, statuses_count=10, lang=None, contributors_enabled=False, is_translator=False, is_translation_enabled=False, profile_background_color='F5F8FA', profile_background_image_url=None, profile_background_image_url_https=None, profile_background_tile=False, profile_image_url='http://pbs.twimg.com/profile_images/935210566599065600/aebyHgPV_normal.jpg', profile_image_url_https='https://pbs.twimg.com/profile_images/935210566599065600/aebyHgPV_normal.jpg', profile_link_color='1DA1F2', profile_sidebar_border_color='C0DEED', profile_sidebar_fill_color='DDEEF6', profile_text_color='333333', profile_use_background_image=True, has_extended_profile=False, default_profile=True, default_profile_image=False, following=False, follow_request_sent=False, notifications=False, translator_type='none'), geo=None, coordinates=None, place=None, contributors=None, is_quote_status=False, retweet_count=0, favorite_count=0, favorited=False, retweeted=False, lang='en')\n",
      "tweepy + oauth!\n",
      "Status(_api=<tweepy.api.API object at 0x00000201EA2C16A0>, _json={'created_at': 'Fri Jul 19 02:32:31 +0000 2019', 'id': 1152043511497314304, 'id_str': '1152043511497314304', 'full_text': 'tweepy + oauth!', 'truncated': False, 'display_text_range': [0, 15], 'entities': {'hashtags': [], 'symbols': [], 'user_mentions': [], 'urls': []}, 'source': '<a href=\"https://bigdatafreecode.wordpress.com/\" rel=\"nofollow\">PyTwitter-Stream-Mining</a>', 'in_reply_to_status_id': None, 'in_reply_to_status_id_str': None, 'in_reply_to_user_id': None, 'in_reply_to_user_id_str': None, 'in_reply_to_screen_name': None, 'user': {'id': 935208713551364097, 'id_str': '935208713551364097', 'name': 'Big Data Free Code', 'screen_name': 'BigDataFreeCode', 'location': '', 'description': '', 'url': None, 'entities': {'description': {'urls': []}}, 'protected': False, 'followers_count': 1, 'friends_count': 49, 'listed_count': 0, 'created_at': 'Mon Nov 27 18:08:27 +0000 2017', 'favourites_count': 0, 'utc_offset': None, 'time_zone': None, 'geo_enabled': False, 'verified': False, 'statuses_count': 10, 'lang': None, 'contributors_enabled': False, 'is_translator': False, 'is_translation_enabled': False, 'profile_background_color': 'F5F8FA', 'profile_background_image_url': None, 'profile_background_image_url_https': None, 'profile_background_tile': False, 'profile_image_url': 'http://pbs.twimg.com/profile_images/935210566599065600/aebyHgPV_normal.jpg', 'profile_image_url_https': 'https://pbs.twimg.com/profile_images/935210566599065600/aebyHgPV_normal.jpg', 'profile_link_color': '1DA1F2', 'profile_sidebar_border_color': 'C0DEED', 'profile_sidebar_fill_color': 'DDEEF6', 'profile_text_color': '333333', 'profile_use_background_image': True, 'has_extended_profile': False, 'default_profile': True, 'default_profile_image': False, 'following': False, 'follow_request_sent': False, 'notifications': False, 'translator_type': 'none'}, 'geo': None, 'coordinates': None, 'place': None, 'contributors': None, 'is_quote_status': False, 'retweet_count': 0, 'favorite_count': 0, 'favorited': False, 'retweeted': False, 'lang': 'en'}, created_at=datetime.datetime(2019, 7, 19, 2, 32, 31), id=1152043511497314304, id_str='1152043511497314304', full_text='tweepy + oauth!', truncated=False, display_text_range=[0, 15], entities={'hashtags': [], 'symbols': [], 'user_mentions': [], 'urls': []}, source='PyTwitter-Stream-Mining', source_url='https://bigdatafreecode.wordpress.com/', in_reply_to_status_id=None, in_reply_to_status_id_str=None, in_reply_to_user_id=None, in_reply_to_user_id_str=None, in_reply_to_screen_name=None, author=User(_api=<tweepy.api.API object at 0x00000201EA2C16A0>, _json={'id': 935208713551364097, 'id_str': '935208713551364097', 'name': 'Big Data Free Code', 'screen_name': 'BigDataFreeCode', 'location': '', 'description': '', 'url': None, 'entities': {'description': {'urls': []}}, 'protected': False, 'followers_count': 1, 'friends_count': 49, 'listed_count': 0, 'created_at': 'Mon Nov 27 18:08:27 +0000 2017', 'favourites_count': 0, 'utc_offset': None, 'time_zone': None, 'geo_enabled': False, 'verified': False, 'statuses_count': 10, 'lang': None, 'contributors_enabled': False, 'is_translator': False, 'is_translation_enabled': False, 'profile_background_color': 'F5F8FA', 'profile_background_image_url': None, 'profile_background_image_url_https': None, 'profile_background_tile': False, 'profile_image_url': 'http://pbs.twimg.com/profile_images/935210566599065600/aebyHgPV_normal.jpg', 'profile_image_url_https': 'https://pbs.twimg.com/profile_images/935210566599065600/aebyHgPV_normal.jpg', 'profile_link_color': '1DA1F2', 'profile_sidebar_border_color': 'C0DEED', 'profile_sidebar_fill_color': 'DDEEF6', 'profile_text_color': '333333', 'profile_use_background_image': True, 'has_extended_profile': False, 'default_profile': True, 'default_profile_image': False, 'following': False, 'follow_request_sent': False, 'notifications': False, 'translator_type': 'none'}, id=935208713551364097, id_str='935208713551364097', name='Big Data Free Code', screen_name='BigDataFreeCode', location='', description='', url=None, entities={'description': {'urls': []}}, protected=False, followers_count=1, friends_count=49, listed_count=0, created_at=datetime.datetime(2017, 11, 27, 18, 8, 27), favourites_count=0, utc_offset=None, time_zone=None, geo_enabled=False, verified=False, statuses_count=10, lang=None, contributors_enabled=False, is_translator=False, is_translation_enabled=False, profile_background_color='F5F8FA', profile_background_image_url=None, profile_background_image_url_https=None, profile_background_tile=False, profile_image_url='http://pbs.twimg.com/profile_images/935210566599065600/aebyHgPV_normal.jpg', profile_image_url_https='https://pbs.twimg.com/profile_images/935210566599065600/aebyHgPV_normal.jpg', profile_link_color='1DA1F2', profile_sidebar_border_color='C0DEED', profile_sidebar_fill_color='DDEEF6', profile_text_color='333333', profile_use_background_image=True, has_extended_profile=False, default_profile=True, default_profile_image=False, following=False, follow_request_sent=False, notifications=False, translator_type='none'), user=User(_api=<tweepy.api.API object at 0x00000201EA2C16A0>, _json={'id': 935208713551364097, 'id_str': '935208713551364097', 'name': 'Big Data Free Code', 'screen_name': 'BigDataFreeCode', 'location': '', 'description': '', 'url': None, 'entities': {'description': {'urls': []}}, 'protected': False, 'followers_count': 1, 'friends_count': 49, 'listed_count': 0, 'created_at': 'Mon Nov 27 18:08:27 +0000 2017', 'favourites_count': 0, 'utc_offset': None, 'time_zone': None, 'geo_enabled': False, 'verified': False, 'statuses_count': 10, 'lang': None, 'contributors_enabled': False, 'is_translator': False, 'is_translation_enabled': False, 'profile_background_color': 'F5F8FA', 'profile_background_image_url': None, 'profile_background_image_url_https': None, 'profile_background_tile': False, 'profile_image_url': 'http://pbs.twimg.com/profile_images/935210566599065600/aebyHgPV_normal.jpg', 'profile_image_url_https': 'https://pbs.twimg.com/profile_images/935210566599065600/aebyHgPV_normal.jpg', 'profile_link_color': '1DA1F2', 'profile_sidebar_border_color': 'C0DEED', 'profile_sidebar_fill_color': 'DDEEF6', 'profile_text_color': '333333', 'profile_use_background_image': True, 'has_extended_profile': False, 'default_profile': True, 'default_profile_image': False, 'following': False, 'follow_request_sent': False, 'notifications': False, 'translator_type': 'none'}, id=935208713551364097, id_str='935208713551364097', name='Big Data Free Code', screen_name='BigDataFreeCode', location='', description='', url=None, entities={'description': {'urls': []}}, protected=False, followers_count=1, friends_count=49, listed_count=0, created_at=datetime.datetime(2017, 11, 27, 18, 8, 27), favourites_count=0, utc_offset=None, time_zone=None, geo_enabled=False, verified=False, statuses_count=10, lang=None, contributors_enabled=False, is_translator=False, is_translation_enabled=False, profile_background_color='F5F8FA', profile_background_image_url=None, profile_background_image_url_https=None, profile_background_tile=False, profile_image_url='http://pbs.twimg.com/profile_images/935210566599065600/aebyHgPV_normal.jpg', profile_image_url_https='https://pbs.twimg.com/profile_images/935210566599065600/aebyHgPV_normal.jpg', profile_link_color='1DA1F2', profile_sidebar_border_color='C0DEED', profile_sidebar_fill_color='DDEEF6', profile_text_color='333333', profile_use_background_image=True, has_extended_profile=False, default_profile=True, default_profile_image=False, following=False, follow_request_sent=False, notifications=False, translator_type='none'), geo=None, coordinates=None, place=None, contributors=None, is_quote_status=False, retweet_count=0, favorite_count=0, favorited=False, retweeted=False, lang='en')\n",
      "Hi, Aku Cinta Indonesia #jokowi @jokowi\n",
      "Status(_api=<tweepy.api.API object at 0x00000201EA2C16A0>, _json={'created_at': 'Fri Jul 19 02:26:39 +0000 2019', 'id': 1152042035618168834, 'id_str': '1152042035618168834', 'full_text': 'Hi, Aku Cinta Indonesia #jokowi @jokowi', 'truncated': False, 'display_text_range': [0, 39], 'entities': {'hashtags': [{'text': 'jokowi', 'indices': [24, 31]}], 'symbols': [], 'user_mentions': [{'screen_name': 'jokowi', 'name': 'Joko Widodo', 'id': 366987179, 'id_str': '366987179', 'indices': [32, 39]}], 'urls': []}, 'source': '<a href=\"https://bigdatafreecode.wordpress.com/\" rel=\"nofollow\">PyTwitter-Stream-Mining</a>', 'in_reply_to_status_id': None, 'in_reply_to_status_id_str': None, 'in_reply_to_user_id': None, 'in_reply_to_user_id_str': None, 'in_reply_to_screen_name': None, 'user': {'id': 935208713551364097, 'id_str': '935208713551364097', 'name': 'Big Data Free Code', 'screen_name': 'BigDataFreeCode', 'location': '', 'description': '', 'url': None, 'entities': {'description': {'urls': []}}, 'protected': False, 'followers_count': 1, 'friends_count': 49, 'listed_count': 0, 'created_at': 'Mon Nov 27 18:08:27 +0000 2017', 'favourites_count': 0, 'utc_offset': None, 'time_zone': None, 'geo_enabled': False, 'verified': False, 'statuses_count': 10, 'lang': None, 'contributors_enabled': False, 'is_translator': False, 'is_translation_enabled': False, 'profile_background_color': 'F5F8FA', 'profile_background_image_url': None, 'profile_background_image_url_https': None, 'profile_background_tile': False, 'profile_image_url': 'http://pbs.twimg.com/profile_images/935210566599065600/aebyHgPV_normal.jpg', 'profile_image_url_https': 'https://pbs.twimg.com/profile_images/935210566599065600/aebyHgPV_normal.jpg', 'profile_link_color': '1DA1F2', 'profile_sidebar_border_color': 'C0DEED', 'profile_sidebar_fill_color': 'DDEEF6', 'profile_text_color': '333333', 'profile_use_background_image': True, 'has_extended_profile': False, 'default_profile': True, 'default_profile_image': False, 'following': False, 'follow_request_sent': False, 'notifications': False, 'translator_type': 'none'}, 'geo': None, 'coordinates': None, 'place': None, 'contributors': None, 'is_quote_status': False, 'retweet_count': 0, 'favorite_count': 0, 'favorited': False, 'retweeted': False, 'lang': 'in'}, created_at=datetime.datetime(2019, 7, 19, 2, 26, 39), id=1152042035618168834, id_str='1152042035618168834', full_text='Hi, Aku Cinta Indonesia #jokowi @jokowi', truncated=False, display_text_range=[0, 39], entities={'hashtags': [{'text': 'jokowi', 'indices': [24, 31]}], 'symbols': [], 'user_mentions': [{'screen_name': 'jokowi', 'name': 'Joko Widodo', 'id': 366987179, 'id_str': '366987179', 'indices': [32, 39]}], 'urls': []}, source='PyTwitter-Stream-Mining', source_url='https://bigdatafreecode.wordpress.com/', in_reply_to_status_id=None, in_reply_to_status_id_str=None, in_reply_to_user_id=None, in_reply_to_user_id_str=None, in_reply_to_screen_name=None, author=User(_api=<tweepy.api.API object at 0x00000201EA2C16A0>, _json={'id': 935208713551364097, 'id_str': '935208713551364097', 'name': 'Big Data Free Code', 'screen_name': 'BigDataFreeCode', 'location': '', 'description': '', 'url': None, 'entities': {'description': {'urls': []}}, 'protected': False, 'followers_count': 1, 'friends_count': 49, 'listed_count': 0, 'created_at': 'Mon Nov 27 18:08:27 +0000 2017', 'favourites_count': 0, 'utc_offset': None, 'time_zone': None, 'geo_enabled': False, 'verified': False, 'statuses_count': 10, 'lang': None, 'contributors_enabled': False, 'is_translator': False, 'is_translation_enabled': False, 'profile_background_color': 'F5F8FA', 'profile_background_image_url': None, 'profile_background_image_url_https': None, 'profile_background_tile': False, 'profile_image_url': 'http://pbs.twimg.com/profile_images/935210566599065600/aebyHgPV_normal.jpg', 'profile_image_url_https': 'https://pbs.twimg.com/profile_images/935210566599065600/aebyHgPV_normal.jpg', 'profile_link_color': '1DA1F2', 'profile_sidebar_border_color': 'C0DEED', 'profile_sidebar_fill_color': 'DDEEF6', 'profile_text_color': '333333', 'profile_use_background_image': True, 'has_extended_profile': False, 'default_profile': True, 'default_profile_image': False, 'following': False, 'follow_request_sent': False, 'notifications': False, 'translator_type': 'none'}, id=935208713551364097, id_str='935208713551364097', name='Big Data Free Code', screen_name='BigDataFreeCode', location='', description='', url=None, entities={'description': {'urls': []}}, protected=False, followers_count=1, friends_count=49, listed_count=0, created_at=datetime.datetime(2017, 11, 27, 18, 8, 27), favourites_count=0, utc_offset=None, time_zone=None, geo_enabled=False, verified=False, statuses_count=10, lang=None, contributors_enabled=False, is_translator=False, is_translation_enabled=False, profile_background_color='F5F8FA', profile_background_image_url=None, profile_background_image_url_https=None, profile_background_tile=False, profile_image_url='http://pbs.twimg.com/profile_images/935210566599065600/aebyHgPV_normal.jpg', profile_image_url_https='https://pbs.twimg.com/profile_images/935210566599065600/aebyHgPV_normal.jpg', profile_link_color='1DA1F2', profile_sidebar_border_color='C0DEED', profile_sidebar_fill_color='DDEEF6', profile_text_color='333333', profile_use_background_image=True, has_extended_profile=False, default_profile=True, default_profile_image=False, following=False, follow_request_sent=False, notifications=False, translator_type='none'), user=User(_api=<tweepy.api.API object at 0x00000201EA2C16A0>, _json={'id': 935208713551364097, 'id_str': '935208713551364097', 'name': 'Big Data Free Code', 'screen_name': 'BigDataFreeCode', 'location': '', 'description': '', 'url': None, 'entities': {'description': {'urls': []}}, 'protected': False, 'followers_count': 1, 'friends_count': 49, 'listed_count': 0, 'created_at': 'Mon Nov 27 18:08:27 +0000 2017', 'favourites_count': 0, 'utc_offset': None, 'time_zone': None, 'geo_enabled': False, 'verified': False, 'statuses_count': 10, 'lang': None, 'contributors_enabled': False, 'is_translator': False, 'is_translation_enabled': False, 'profile_background_color': 'F5F8FA', 'profile_background_image_url': None, 'profile_background_image_url_https': None, 'profile_background_tile': False, 'profile_image_url': 'http://pbs.twimg.com/profile_images/935210566599065600/aebyHgPV_normal.jpg', 'profile_image_url_https': 'https://pbs.twimg.com/profile_images/935210566599065600/aebyHgPV_normal.jpg', 'profile_link_color': '1DA1F2', 'profile_sidebar_border_color': 'C0DEED', 'profile_sidebar_fill_color': 'DDEEF6', 'profile_text_color': '333333', 'profile_use_background_image': True, 'has_extended_profile': False, 'default_profile': True, 'default_profile_image': False, 'following': False, 'follow_request_sent': False, 'notifications': False, 'translator_type': 'none'}, id=935208713551364097, id_str='935208713551364097', name='Big Data Free Code', screen_name='BigDataFreeCode', location='', description='', url=None, entities={'description': {'urls': []}}, protected=False, followers_count=1, friends_count=49, listed_count=0, created_at=datetime.datetime(2017, 11, 27, 18, 8, 27), favourites_count=0, utc_offset=None, time_zone=None, geo_enabled=False, verified=False, statuses_count=10, lang=None, contributors_enabled=False, is_translator=False, is_translation_enabled=False, profile_background_color='F5F8FA', profile_background_image_url=None, profile_background_image_url_https=None, profile_background_tile=False, profile_image_url='http://pbs.twimg.com/profile_images/935210566599065600/aebyHgPV_normal.jpg', profile_image_url_https='https://pbs.twimg.com/profile_images/935210566599065600/aebyHgPV_normal.jpg', profile_link_color='1DA1F2', profile_sidebar_border_color='C0DEED', profile_sidebar_fill_color='DDEEF6', profile_text_color='333333', profile_use_background_image=True, has_extended_profile=False, default_profile=True, default_profile_image=False, following=False, follow_request_sent=False, notifications=False, translator_type='none'), geo=None, coordinates=None, place=None, contributors=None, is_quote_status=False, retweet_count=0, favorite_count=0, favorited=False, retweeted=False, lang='in')\n",
      "a c b d\n",
      "Status(_api=<tweepy.api.API object at 0x00000201EA2C16A0>, _json={'created_at': 'Fri Jul 19 02:13:53 +0000 2019', 'id': 1152038821178966016, 'id_str': '1152038821178966016', 'full_text': 'a c b d', 'truncated': False, 'display_text_range': [0, 7], 'entities': {'hashtags': [], 'symbols': [], 'user_mentions': [], 'urls': []}, 'source': '<a href=\"https://bigdatafreecode.wordpress.com/\" rel=\"nofollow\">PyTwitter-Stream-Mining</a>', 'in_reply_to_status_id': None, 'in_reply_to_status_id_str': None, 'in_reply_to_user_id': None, 'in_reply_to_user_id_str': None, 'in_reply_to_screen_name': None, 'user': {'id': 935208713551364097, 'id_str': '935208713551364097', 'name': 'Big Data Free Code', 'screen_name': 'BigDataFreeCode', 'location': '', 'description': '', 'url': None, 'entities': {'description': {'urls': []}}, 'protected': False, 'followers_count': 1, 'friends_count': 49, 'listed_count': 0, 'created_at': 'Mon Nov 27 18:08:27 +0000 2017', 'favourites_count': 0, 'utc_offset': None, 'time_zone': None, 'geo_enabled': False, 'verified': False, 'statuses_count': 10, 'lang': None, 'contributors_enabled': False, 'is_translator': False, 'is_translation_enabled': False, 'profile_background_color': 'F5F8FA', 'profile_background_image_url': None, 'profile_background_image_url_https': None, 'profile_background_tile': False, 'profile_image_url': 'http://pbs.twimg.com/profile_images/935210566599065600/aebyHgPV_normal.jpg', 'profile_image_url_https': 'https://pbs.twimg.com/profile_images/935210566599065600/aebyHgPV_normal.jpg', 'profile_link_color': '1DA1F2', 'profile_sidebar_border_color': 'C0DEED', 'profile_sidebar_fill_color': 'DDEEF6', 'profile_text_color': '333333', 'profile_use_background_image': True, 'has_extended_profile': False, 'default_profile': True, 'default_profile_image': False, 'following': False, 'follow_request_sent': False, 'notifications': False, 'translator_type': 'none'}, 'geo': None, 'coordinates': None, 'place': None, 'contributors': None, 'is_quote_status': False, 'retweet_count': 0, 'favorite_count': 0, 'favorited': False, 'retweeted': False, 'lang': 'en'}, created_at=datetime.datetime(2019, 7, 19, 2, 13, 53), id=1152038821178966016, id_str='1152038821178966016', full_text='a c b d', truncated=False, display_text_range=[0, 7], entities={'hashtags': [], 'symbols': [], 'user_mentions': [], 'urls': []}, source='PyTwitter-Stream-Mining', source_url='https://bigdatafreecode.wordpress.com/', in_reply_to_status_id=None, in_reply_to_status_id_str=None, in_reply_to_user_id=None, in_reply_to_user_id_str=None, in_reply_to_screen_name=None, author=User(_api=<tweepy.api.API object at 0x00000201EA2C16A0>, _json={'id': 935208713551364097, 'id_str': '935208713551364097', 'name': 'Big Data Free Code', 'screen_name': 'BigDataFreeCode', 'location': '', 'description': '', 'url': None, 'entities': {'description': {'urls': []}}, 'protected': False, 'followers_count': 1, 'friends_count': 49, 'listed_count': 0, 'created_at': 'Mon Nov 27 18:08:27 +0000 2017', 'favourites_count': 0, 'utc_offset': None, 'time_zone': None, 'geo_enabled': False, 'verified': False, 'statuses_count': 10, 'lang': None, 'contributors_enabled': False, 'is_translator': False, 'is_translation_enabled': False, 'profile_background_color': 'F5F8FA', 'profile_background_image_url': None, 'profile_background_image_url_https': None, 'profile_background_tile': False, 'profile_image_url': 'http://pbs.twimg.com/profile_images/935210566599065600/aebyHgPV_normal.jpg', 'profile_image_url_https': 'https://pbs.twimg.com/profile_images/935210566599065600/aebyHgPV_normal.jpg', 'profile_link_color': '1DA1F2', 'profile_sidebar_border_color': 'C0DEED', 'profile_sidebar_fill_color': 'DDEEF6', 'profile_text_color': '333333', 'profile_use_background_image': True, 'has_extended_profile': False, 'default_profile': True, 'default_profile_image': False, 'following': False, 'follow_request_sent': False, 'notifications': False, 'translator_type': 'none'}, id=935208713551364097, id_str='935208713551364097', name='Big Data Free Code', screen_name='BigDataFreeCode', location='', description='', url=None, entities={'description': {'urls': []}}, protected=False, followers_count=1, friends_count=49, listed_count=0, created_at=datetime.datetime(2017, 11, 27, 18, 8, 27), favourites_count=0, utc_offset=None, time_zone=None, geo_enabled=False, verified=False, statuses_count=10, lang=None, contributors_enabled=False, is_translator=False, is_translation_enabled=False, profile_background_color='F5F8FA', profile_background_image_url=None, profile_background_image_url_https=None, profile_background_tile=False, profile_image_url='http://pbs.twimg.com/profile_images/935210566599065600/aebyHgPV_normal.jpg', profile_image_url_https='https://pbs.twimg.com/profile_images/935210566599065600/aebyHgPV_normal.jpg', profile_link_color='1DA1F2', profile_sidebar_border_color='C0DEED', profile_sidebar_fill_color='DDEEF6', profile_text_color='333333', profile_use_background_image=True, has_extended_profile=False, default_profile=True, default_profile_image=False, following=False, follow_request_sent=False, notifications=False, translator_type='none'), user=User(_api=<tweepy.api.API object at 0x00000201EA2C16A0>, _json={'id': 935208713551364097, 'id_str': '935208713551364097', 'name': 'Big Data Free Code', 'screen_name': 'BigDataFreeCode', 'location': '', 'description': '', 'url': None, 'entities': {'description': {'urls': []}}, 'protected': False, 'followers_count': 1, 'friends_count': 49, 'listed_count': 0, 'created_at': 'Mon Nov 27 18:08:27 +0000 2017', 'favourites_count': 0, 'utc_offset': None, 'time_zone': None, 'geo_enabled': False, 'verified': False, 'statuses_count': 10, 'lang': None, 'contributors_enabled': False, 'is_translator': False, 'is_translation_enabled': False, 'profile_background_color': 'F5F8FA', 'profile_background_image_url': None, 'profile_background_image_url_https': None, 'profile_background_tile': False, 'profile_image_url': 'http://pbs.twimg.com/profile_images/935210566599065600/aebyHgPV_normal.jpg', 'profile_image_url_https': 'https://pbs.twimg.com/profile_images/935210566599065600/aebyHgPV_normal.jpg', 'profile_link_color': '1DA1F2', 'profile_sidebar_border_color': 'C0DEED', 'profile_sidebar_fill_color': 'DDEEF6', 'profile_text_color': '333333', 'profile_use_background_image': True, 'has_extended_profile': False, 'default_profile': True, 'default_profile_image': False, 'following': False, 'follow_request_sent': False, 'notifications': False, 'translator_type': 'none'}, id=935208713551364097, id_str='935208713551364097', name='Big Data Free Code', screen_name='BigDataFreeCode', location='', description='', url=None, entities={'description': {'urls': []}}, protected=False, followers_count=1, friends_count=49, listed_count=0, created_at=datetime.datetime(2017, 11, 27, 18, 8, 27), favourites_count=0, utc_offset=None, time_zone=None, geo_enabled=False, verified=False, statuses_count=10, lang=None, contributors_enabled=False, is_translator=False, is_translation_enabled=False, profile_background_color='F5F8FA', profile_background_image_url=None, profile_background_image_url_https=None, profile_background_tile=False, profile_image_url='http://pbs.twimg.com/profile_images/935210566599065600/aebyHgPV_normal.jpg', profile_image_url_https='https://pbs.twimg.com/profile_images/935210566599065600/aebyHgPV_normal.jpg', profile_link_color='1DA1F2', profile_sidebar_border_color='C0DEED', profile_sidebar_fill_color='DDEEF6', profile_text_color='333333', profile_use_background_image=True, has_extended_profile=False, default_profile=True, default_profile_image=False, following=False, follow_request_sent=False, notifications=False, translator_type='none'), geo=None, coordinates=None, place=None, contributors=None, is_quote_status=False, retweet_count=0, favorite_count=0, favorited=False, retweeted=False, lang='en')\n",
      "a b b d\n",
      "Status(_api=<tweepy.api.API object at 0x00000201EA2C16A0>, _json={'created_at': 'Fri Jul 19 02:13:36 +0000 2019', 'id': 1152038749791911936, 'id_str': '1152038749791911936', 'full_text': 'a b b d', 'truncated': False, 'display_text_range': [0, 7], 'entities': {'hashtags': [], 'symbols': [], 'user_mentions': [], 'urls': []}, 'source': '<a href=\"https://bigdatafreecode.wordpress.com/\" rel=\"nofollow\">PyTwitter-Stream-Mining</a>', 'in_reply_to_status_id': None, 'in_reply_to_status_id_str': None, 'in_reply_to_user_id': None, 'in_reply_to_user_id_str': None, 'in_reply_to_screen_name': None, 'user': {'id': 935208713551364097, 'id_str': '935208713551364097', 'name': 'Big Data Free Code', 'screen_name': 'BigDataFreeCode', 'location': '', 'description': '', 'url': None, 'entities': {'description': {'urls': []}}, 'protected': False, 'followers_count': 1, 'friends_count': 49, 'listed_count': 0, 'created_at': 'Mon Nov 27 18:08:27 +0000 2017', 'favourites_count': 0, 'utc_offset': None, 'time_zone': None, 'geo_enabled': False, 'verified': False, 'statuses_count': 10, 'lang': None, 'contributors_enabled': False, 'is_translator': False, 'is_translation_enabled': False, 'profile_background_color': 'F5F8FA', 'profile_background_image_url': None, 'profile_background_image_url_https': None, 'profile_background_tile': False, 'profile_image_url': 'http://pbs.twimg.com/profile_images/935210566599065600/aebyHgPV_normal.jpg', 'profile_image_url_https': 'https://pbs.twimg.com/profile_images/935210566599065600/aebyHgPV_normal.jpg', 'profile_link_color': '1DA1F2', 'profile_sidebar_border_color': 'C0DEED', 'profile_sidebar_fill_color': 'DDEEF6', 'profile_text_color': '333333', 'profile_use_background_image': True, 'has_extended_profile': False, 'default_profile': True, 'default_profile_image': False, 'following': False, 'follow_request_sent': False, 'notifications': False, 'translator_type': 'none'}, 'geo': None, 'coordinates': None, 'place': None, 'contributors': None, 'is_quote_status': False, 'retweet_count': 0, 'favorite_count': 0, 'favorited': False, 'retweeted': False, 'lang': 'sv'}, created_at=datetime.datetime(2019, 7, 19, 2, 13, 36), id=1152038749791911936, id_str='1152038749791911936', full_text='a b b d', truncated=False, display_text_range=[0, 7], entities={'hashtags': [], 'symbols': [], 'user_mentions': [], 'urls': []}, source='PyTwitter-Stream-Mining', source_url='https://bigdatafreecode.wordpress.com/', in_reply_to_status_id=None, in_reply_to_status_id_str=None, in_reply_to_user_id=None, in_reply_to_user_id_str=None, in_reply_to_screen_name=None, author=User(_api=<tweepy.api.API object at 0x00000201EA2C16A0>, _json={'id': 935208713551364097, 'id_str': '935208713551364097', 'name': 'Big Data Free Code', 'screen_name': 'BigDataFreeCode', 'location': '', 'description': '', 'url': None, 'entities': {'description': {'urls': []}}, 'protected': False, 'followers_count': 1, 'friends_count': 49, 'listed_count': 0, 'created_at': 'Mon Nov 27 18:08:27 +0000 2017', 'favourites_count': 0, 'utc_offset': None, 'time_zone': None, 'geo_enabled': False, 'verified': False, 'statuses_count': 10, 'lang': None, 'contributors_enabled': False, 'is_translator': False, 'is_translation_enabled': False, 'profile_background_color': 'F5F8FA', 'profile_background_image_url': None, 'profile_background_image_url_https': None, 'profile_background_tile': False, 'profile_image_url': 'http://pbs.twimg.com/profile_images/935210566599065600/aebyHgPV_normal.jpg', 'profile_image_url_https': 'https://pbs.twimg.com/profile_images/935210566599065600/aebyHgPV_normal.jpg', 'profile_link_color': '1DA1F2', 'profile_sidebar_border_color': 'C0DEED', 'profile_sidebar_fill_color': 'DDEEF6', 'profile_text_color': '333333', 'profile_use_background_image': True, 'has_extended_profile': False, 'default_profile': True, 'default_profile_image': False, 'following': False, 'follow_request_sent': False, 'notifications': False, 'translator_type': 'none'}, id=935208713551364097, id_str='935208713551364097', name='Big Data Free Code', screen_name='BigDataFreeCode', location='', description='', url=None, entities={'description': {'urls': []}}, protected=False, followers_count=1, friends_count=49, listed_count=0, created_at=datetime.datetime(2017, 11, 27, 18, 8, 27), favourites_count=0, utc_offset=None, time_zone=None, geo_enabled=False, verified=False, statuses_count=10, lang=None, contributors_enabled=False, is_translator=False, is_translation_enabled=False, profile_background_color='F5F8FA', profile_background_image_url=None, profile_background_image_url_https=None, profile_background_tile=False, profile_image_url='http://pbs.twimg.com/profile_images/935210566599065600/aebyHgPV_normal.jpg', profile_image_url_https='https://pbs.twimg.com/profile_images/935210566599065600/aebyHgPV_normal.jpg', profile_link_color='1DA1F2', profile_sidebar_border_color='C0DEED', profile_sidebar_fill_color='DDEEF6', profile_text_color='333333', profile_use_background_image=True, has_extended_profile=False, default_profile=True, default_profile_image=False, following=False, follow_request_sent=False, notifications=False, translator_type='none'), user=User(_api=<tweepy.api.API object at 0x00000201EA2C16A0>, _json={'id': 935208713551364097, 'id_str': '935208713551364097', 'name': 'Big Data Free Code', 'screen_name': 'BigDataFreeCode', 'location': '', 'description': '', 'url': None, 'entities': {'description': {'urls': []}}, 'protected': False, 'followers_count': 1, 'friends_count': 49, 'listed_count': 0, 'created_at': 'Mon Nov 27 18:08:27 +0000 2017', 'favourites_count': 0, 'utc_offset': None, 'time_zone': None, 'geo_enabled': False, 'verified': False, 'statuses_count': 10, 'lang': None, 'contributors_enabled': False, 'is_translator': False, 'is_translation_enabled': False, 'profile_background_color': 'F5F8FA', 'profile_background_image_url': None, 'profile_background_image_url_https': None, 'profile_background_tile': False, 'profile_image_url': 'http://pbs.twimg.com/profile_images/935210566599065600/aebyHgPV_normal.jpg', 'profile_image_url_https': 'https://pbs.twimg.com/profile_images/935210566599065600/aebyHgPV_normal.jpg', 'profile_link_color': '1DA1F2', 'profile_sidebar_border_color': 'C0DEED', 'profile_sidebar_fill_color': 'DDEEF6', 'profile_text_color': '333333', 'profile_use_background_image': True, 'has_extended_profile': False, 'default_profile': True, 'default_profile_image': False, 'following': False, 'follow_request_sent': False, 'notifications': False, 'translator_type': 'none'}, id=935208713551364097, id_str='935208713551364097', name='Big Data Free Code', screen_name='BigDataFreeCode', location='', description='', url=None, entities={'description': {'urls': []}}, protected=False, followers_count=1, friends_count=49, listed_count=0, created_at=datetime.datetime(2017, 11, 27, 18, 8, 27), favourites_count=0, utc_offset=None, time_zone=None, geo_enabled=False, verified=False, statuses_count=10, lang=None, contributors_enabled=False, is_translator=False, is_translation_enabled=False, profile_background_color='F5F8FA', profile_background_image_url=None, profile_background_image_url_https=None, profile_background_tile=False, profile_image_url='http://pbs.twimg.com/profile_images/935210566599065600/aebyHgPV_normal.jpg', profile_image_url_https='https://pbs.twimg.com/profile_images/935210566599065600/aebyHgPV_normal.jpg', profile_link_color='1DA1F2', profile_sidebar_border_color='C0DEED', profile_sidebar_fill_color='DDEEF6', profile_text_color='333333', profile_use_background_image=True, has_extended_profile=False, default_profile=True, default_profile_image=False, following=False, follow_request_sent=False, notifications=False, translator_type='none'), geo=None, coordinates=None, place=None, contributors=None, is_quote_status=False, retweet_count=0, favorite_count=0, favorited=False, retweeted=False, lang='sv')\n",
      "tweepy + data sicence indonesia\n",
      "Status(_api=<tweepy.api.API object at 0x00000201EA2C16A0>, _json={'created_at': 'Fri Jul 19 01:45:21 +0000 2019', 'id': 1152031639129640960, 'id_str': '1152031639129640960', 'full_text': 'tweepy + data sicence indonesia', 'truncated': False, 'display_text_range': [0, 31], 'entities': {'hashtags': [], 'symbols': [], 'user_mentions': [], 'urls': []}, 'source': '<a href=\"https://bigdatafreecode.wordpress.com/\" rel=\"nofollow\">PyTwitter-Stream-Mining</a>', 'in_reply_to_status_id': None, 'in_reply_to_status_id_str': None, 'in_reply_to_user_id': None, 'in_reply_to_user_id_str': None, 'in_reply_to_screen_name': None, 'user': {'id': 935208713551364097, 'id_str': '935208713551364097', 'name': 'Big Data Free Code', 'screen_name': 'BigDataFreeCode', 'location': '', 'description': '', 'url': None, 'entities': {'description': {'urls': []}}, 'protected': False, 'followers_count': 1, 'friends_count': 49, 'listed_count': 0, 'created_at': 'Mon Nov 27 18:08:27 +0000 2017', 'favourites_count': 0, 'utc_offset': None, 'time_zone': None, 'geo_enabled': False, 'verified': False, 'statuses_count': 10, 'lang': None, 'contributors_enabled': False, 'is_translator': False, 'is_translation_enabled': False, 'profile_background_color': 'F5F8FA', 'profile_background_image_url': None, 'profile_background_image_url_https': None, 'profile_background_tile': False, 'profile_image_url': 'http://pbs.twimg.com/profile_images/935210566599065600/aebyHgPV_normal.jpg', 'profile_image_url_https': 'https://pbs.twimg.com/profile_images/935210566599065600/aebyHgPV_normal.jpg', 'profile_link_color': '1DA1F2', 'profile_sidebar_border_color': 'C0DEED', 'profile_sidebar_fill_color': 'DDEEF6', 'profile_text_color': '333333', 'profile_use_background_image': True, 'has_extended_profile': False, 'default_profile': True, 'default_profile_image': False, 'following': False, 'follow_request_sent': False, 'notifications': False, 'translator_type': 'none'}, 'geo': None, 'coordinates': None, 'place': None, 'contributors': None, 'is_quote_status': False, 'retweet_count': 0, 'favorite_count': 0, 'favorited': False, 'retweeted': False, 'lang': 'en'}, created_at=datetime.datetime(2019, 7, 19, 1, 45, 21), id=1152031639129640960, id_str='1152031639129640960', full_text='tweepy + data sicence indonesia', truncated=False, display_text_range=[0, 31], entities={'hashtags': [], 'symbols': [], 'user_mentions': [], 'urls': []}, source='PyTwitter-Stream-Mining', source_url='https://bigdatafreecode.wordpress.com/', in_reply_to_status_id=None, in_reply_to_status_id_str=None, in_reply_to_user_id=None, in_reply_to_user_id_str=None, in_reply_to_screen_name=None, author=User(_api=<tweepy.api.API object at 0x00000201EA2C16A0>, _json={'id': 935208713551364097, 'id_str': '935208713551364097', 'name': 'Big Data Free Code', 'screen_name': 'BigDataFreeCode', 'location': '', 'description': '', 'url': None, 'entities': {'description': {'urls': []}}, 'protected': False, 'followers_count': 1, 'friends_count': 49, 'listed_count': 0, 'created_at': 'Mon Nov 27 18:08:27 +0000 2017', 'favourites_count': 0, 'utc_offset': None, 'time_zone': None, 'geo_enabled': False, 'verified': False, 'statuses_count': 10, 'lang': None, 'contributors_enabled': False, 'is_translator': False, 'is_translation_enabled': False, 'profile_background_color': 'F5F8FA', 'profile_background_image_url': None, 'profile_background_image_url_https': None, 'profile_background_tile': False, 'profile_image_url': 'http://pbs.twimg.com/profile_images/935210566599065600/aebyHgPV_normal.jpg', 'profile_image_url_https': 'https://pbs.twimg.com/profile_images/935210566599065600/aebyHgPV_normal.jpg', 'profile_link_color': '1DA1F2', 'profile_sidebar_border_color': 'C0DEED', 'profile_sidebar_fill_color': 'DDEEF6', 'profile_text_color': '333333', 'profile_use_background_image': True, 'has_extended_profile': False, 'default_profile': True, 'default_profile_image': False, 'following': False, 'follow_request_sent': False, 'notifications': False, 'translator_type': 'none'}, id=935208713551364097, id_str='935208713551364097', name='Big Data Free Code', screen_name='BigDataFreeCode', location='', description='', url=None, entities={'description': {'urls': []}}, protected=False, followers_count=1, friends_count=49, listed_count=0, created_at=datetime.datetime(2017, 11, 27, 18, 8, 27), favourites_count=0, utc_offset=None, time_zone=None, geo_enabled=False, verified=False, statuses_count=10, lang=None, contributors_enabled=False, is_translator=False, is_translation_enabled=False, profile_background_color='F5F8FA', profile_background_image_url=None, profile_background_image_url_https=None, profile_background_tile=False, profile_image_url='http://pbs.twimg.com/profile_images/935210566599065600/aebyHgPV_normal.jpg', profile_image_url_https='https://pbs.twimg.com/profile_images/935210566599065600/aebyHgPV_normal.jpg', profile_link_color='1DA1F2', profile_sidebar_border_color='C0DEED', profile_sidebar_fill_color='DDEEF6', profile_text_color='333333', profile_use_background_image=True, has_extended_profile=False, default_profile=True, default_profile_image=False, following=False, follow_request_sent=False, notifications=False, translator_type='none'), user=User(_api=<tweepy.api.API object at 0x00000201EA2C16A0>, _json={'id': 935208713551364097, 'id_str': '935208713551364097', 'name': 'Big Data Free Code', 'screen_name': 'BigDataFreeCode', 'location': '', 'description': '', 'url': None, 'entities': {'description': {'urls': []}}, 'protected': False, 'followers_count': 1, 'friends_count': 49, 'listed_count': 0, 'created_at': 'Mon Nov 27 18:08:27 +0000 2017', 'favourites_count': 0, 'utc_offset': None, 'time_zone': None, 'geo_enabled': False, 'verified': False, 'statuses_count': 10, 'lang': None, 'contributors_enabled': False, 'is_translator': False, 'is_translation_enabled': False, 'profile_background_color': 'F5F8FA', 'profile_background_image_url': None, 'profile_background_image_url_https': None, 'profile_background_tile': False, 'profile_image_url': 'http://pbs.twimg.com/profile_images/935210566599065600/aebyHgPV_normal.jpg', 'profile_image_url_https': 'https://pbs.twimg.com/profile_images/935210566599065600/aebyHgPV_normal.jpg', 'profile_link_color': '1DA1F2', 'profile_sidebar_border_color': 'C0DEED', 'profile_sidebar_fill_color': 'DDEEF6', 'profile_text_color': '333333', 'profile_use_background_image': True, 'has_extended_profile': False, 'default_profile': True, 'default_profile_image': False, 'following': False, 'follow_request_sent': False, 'notifications': False, 'translator_type': 'none'}, id=935208713551364097, id_str='935208713551364097', name='Big Data Free Code', screen_name='BigDataFreeCode', location='', description='', url=None, entities={'description': {'urls': []}}, protected=False, followers_count=1, friends_count=49, listed_count=0, created_at=datetime.datetime(2017, 11, 27, 18, 8, 27), favourites_count=0, utc_offset=None, time_zone=None, geo_enabled=False, verified=False, statuses_count=10, lang=None, contributors_enabled=False, is_translator=False, is_translation_enabled=False, profile_background_color='F5F8FA', profile_background_image_url=None, profile_background_image_url_https=None, profile_background_tile=False, profile_image_url='http://pbs.twimg.com/profile_images/935210566599065600/aebyHgPV_normal.jpg', profile_image_url_https='https://pbs.twimg.com/profile_images/935210566599065600/aebyHgPV_normal.jpg', profile_link_color='1DA1F2', profile_sidebar_border_color='C0DEED', profile_sidebar_fill_color='DDEEF6', profile_text_color='333333', profile_use_background_image=True, has_extended_profile=False, default_profile=True, default_profile_image=False, following=False, follow_request_sent=False, notifications=False, translator_type='none'), geo=None, coordinates=None, place=None, contributors=None, is_quote_status=False, retweet_count=0, favorite_count=0, favorited=False, retweeted=False, lang='en')\n",
      "tweepy + oauth!\n",
      "Status(_api=<tweepy.api.API object at 0x00000201EA2C16A0>, _json={'created_at': 'Wed Jul 17 16:28:03 +0000 2019', 'id': 1151529002500100097, 'id_str': '1151529002500100097', 'full_text': 'tweepy + oauth!', 'truncated': False, 'display_text_range': [0, 15], 'entities': {'hashtags': [], 'symbols': [], 'user_mentions': [], 'urls': []}, 'source': '<a href=\"https://bigdatafreecode.wordpress.com/\" rel=\"nofollow\">PyTwitter-Stream-Mining</a>', 'in_reply_to_status_id': None, 'in_reply_to_status_id_str': None, 'in_reply_to_user_id': None, 'in_reply_to_user_id_str': None, 'in_reply_to_screen_name': None, 'user': {'id': 935208713551364097, 'id_str': '935208713551364097', 'name': 'Big Data Free Code', 'screen_name': 'BigDataFreeCode', 'location': '', 'description': '', 'url': None, 'entities': {'description': {'urls': []}}, 'protected': False, 'followers_count': 1, 'friends_count': 49, 'listed_count': 0, 'created_at': 'Mon Nov 27 18:08:27 +0000 2017', 'favourites_count': 0, 'utc_offset': None, 'time_zone': None, 'geo_enabled': False, 'verified': False, 'statuses_count': 10, 'lang': None, 'contributors_enabled': False, 'is_translator': False, 'is_translation_enabled': False, 'profile_background_color': 'F5F8FA', 'profile_background_image_url': None, 'profile_background_image_url_https': None, 'profile_background_tile': False, 'profile_image_url': 'http://pbs.twimg.com/profile_images/935210566599065600/aebyHgPV_normal.jpg', 'profile_image_url_https': 'https://pbs.twimg.com/profile_images/935210566599065600/aebyHgPV_normal.jpg', 'profile_link_color': '1DA1F2', 'profile_sidebar_border_color': 'C0DEED', 'profile_sidebar_fill_color': 'DDEEF6', 'profile_text_color': '333333', 'profile_use_background_image': True, 'has_extended_profile': False, 'default_profile': True, 'default_profile_image': False, 'following': False, 'follow_request_sent': False, 'notifications': False, 'translator_type': 'none'}, 'geo': None, 'coordinates': None, 'place': None, 'contributors': None, 'is_quote_status': False, 'retweet_count': 1, 'favorite_count': 2, 'favorited': False, 'retweeted': False, 'lang': 'en'}, created_at=datetime.datetime(2019, 7, 17, 16, 28, 3), id=1151529002500100097, id_str='1151529002500100097', full_text='tweepy + oauth!', truncated=False, display_text_range=[0, 15], entities={'hashtags': [], 'symbols': [], 'user_mentions': [], 'urls': []}, source='PyTwitter-Stream-Mining', source_url='https://bigdatafreecode.wordpress.com/', in_reply_to_status_id=None, in_reply_to_status_id_str=None, in_reply_to_user_id=None, in_reply_to_user_id_str=None, in_reply_to_screen_name=None, author=User(_api=<tweepy.api.API object at 0x00000201EA2C16A0>, _json={'id': 935208713551364097, 'id_str': '935208713551364097', 'name': 'Big Data Free Code', 'screen_name': 'BigDataFreeCode', 'location': '', 'description': '', 'url': None, 'entities': {'description': {'urls': []}}, 'protected': False, 'followers_count': 1, 'friends_count': 49, 'listed_count': 0, 'created_at': 'Mon Nov 27 18:08:27 +0000 2017', 'favourites_count': 0, 'utc_offset': None, 'time_zone': None, 'geo_enabled': False, 'verified': False, 'statuses_count': 10, 'lang': None, 'contributors_enabled': False, 'is_translator': False, 'is_translation_enabled': False, 'profile_background_color': 'F5F8FA', 'profile_background_image_url': None, 'profile_background_image_url_https': None, 'profile_background_tile': False, 'profile_image_url': 'http://pbs.twimg.com/profile_images/935210566599065600/aebyHgPV_normal.jpg', 'profile_image_url_https': 'https://pbs.twimg.com/profile_images/935210566599065600/aebyHgPV_normal.jpg', 'profile_link_color': '1DA1F2', 'profile_sidebar_border_color': 'C0DEED', 'profile_sidebar_fill_color': 'DDEEF6', 'profile_text_color': '333333', 'profile_use_background_image': True, 'has_extended_profile': False, 'default_profile': True, 'default_profile_image': False, 'following': False, 'follow_request_sent': False, 'notifications': False, 'translator_type': 'none'}, id=935208713551364097, id_str='935208713551364097', name='Big Data Free Code', screen_name='BigDataFreeCode', location='', description='', url=None, entities={'description': {'urls': []}}, protected=False, followers_count=1, friends_count=49, listed_count=0, created_at=datetime.datetime(2017, 11, 27, 18, 8, 27), favourites_count=0, utc_offset=None, time_zone=None, geo_enabled=False, verified=False, statuses_count=10, lang=None, contributors_enabled=False, is_translator=False, is_translation_enabled=False, profile_background_color='F5F8FA', profile_background_image_url=None, profile_background_image_url_https=None, profile_background_tile=False, profile_image_url='http://pbs.twimg.com/profile_images/935210566599065600/aebyHgPV_normal.jpg', profile_image_url_https='https://pbs.twimg.com/profile_images/935210566599065600/aebyHgPV_normal.jpg', profile_link_color='1DA1F2', profile_sidebar_border_color='C0DEED', profile_sidebar_fill_color='DDEEF6', profile_text_color='333333', profile_use_background_image=True, has_extended_profile=False, default_profile=True, default_profile_image=False, following=False, follow_request_sent=False, notifications=False, translator_type='none'), user=User(_api=<tweepy.api.API object at 0x00000201EA2C16A0>, _json={'id': 935208713551364097, 'id_str': '935208713551364097', 'name': 'Big Data Free Code', 'screen_name': 'BigDataFreeCode', 'location': '', 'description': '', 'url': None, 'entities': {'description': {'urls': []}}, 'protected': False, 'followers_count': 1, 'friends_count': 49, 'listed_count': 0, 'created_at': 'Mon Nov 27 18:08:27 +0000 2017', 'favourites_count': 0, 'utc_offset': None, 'time_zone': None, 'geo_enabled': False, 'verified': False, 'statuses_count': 10, 'lang': None, 'contributors_enabled': False, 'is_translator': False, 'is_translation_enabled': False, 'profile_background_color': 'F5F8FA', 'profile_background_image_url': None, 'profile_background_image_url_https': None, 'profile_background_tile': False, 'profile_image_url': 'http://pbs.twimg.com/profile_images/935210566599065600/aebyHgPV_normal.jpg', 'profile_image_url_https': 'https://pbs.twimg.com/profile_images/935210566599065600/aebyHgPV_normal.jpg', 'profile_link_color': '1DA1F2', 'profile_sidebar_border_color': 'C0DEED', 'profile_sidebar_fill_color': 'DDEEF6', 'profile_text_color': '333333', 'profile_use_background_image': True, 'has_extended_profile': False, 'default_profile': True, 'default_profile_image': False, 'following': False, 'follow_request_sent': False, 'notifications': False, 'translator_type': 'none'}, id=935208713551364097, id_str='935208713551364097', name='Big Data Free Code', screen_name='BigDataFreeCode', location='', description='', url=None, entities={'description': {'urls': []}}, protected=False, followers_count=1, friends_count=49, listed_count=0, created_at=datetime.datetime(2017, 11, 27, 18, 8, 27), favourites_count=0, utc_offset=None, time_zone=None, geo_enabled=False, verified=False, statuses_count=10, lang=None, contributors_enabled=False, is_translator=False, is_translation_enabled=False, profile_background_color='F5F8FA', profile_background_image_url=None, profile_background_image_url_https=None, profile_background_tile=False, profile_image_url='http://pbs.twimg.com/profile_images/935210566599065600/aebyHgPV_normal.jpg', profile_image_url_https='https://pbs.twimg.com/profile_images/935210566599065600/aebyHgPV_normal.jpg', profile_link_color='1DA1F2', profile_sidebar_border_color='C0DEED', profile_sidebar_fill_color='DDEEF6', profile_text_color='333333', profile_use_background_image=True, has_extended_profile=False, default_profile=True, default_profile_image=False, following=False, follow_request_sent=False, notifications=False, translator_type='none'), geo=None, coordinates=None, place=None, contributors=None, is_quote_status=False, retweet_count=1, favorite_count=2, favorited=False, retweeted=False, lang='en')\n"
     ]
    }
   ],
   "source": [
    "all_tweets2 = []\n",
    "# search timeline status id_or_name\n",
    "id_or_name = '935208713551364097'\n",
    "#id_or_name = 'BigDataFreeCode'\n",
    "for status in tweepy.Cursor(api.user_timeline, id=id_or_name, tweet_mode='extended').items():\n",
    "    print(status.full_text) \n",
    "    \n",
    "    #all_tweets2.append({\"text\": status.full_text})\n",
    "    all_tweets2.append(status.full_text)\n",
    "    #status = status._json\n",
    "    print(status)\n",
    "tweets_df2 = pd.DataFrame(all_tweets2)"
   ]
  },
  {
   "cell_type": "code",
   "execution_count": 16,
   "metadata": {
    "scrolled": true
   },
   "outputs": [
    {
     "name": "stdout",
     "output_type": "stream",
     "text": [
      "                                               0\n",
      "0                                tweepy + oauth!\n",
      "1  #CloudComputing Filkom UB Digital Talent 2019\n",
      "2           #BigDataFilkomUB Digital Talent 2019\n",
      "3                                 tweepy + auth!\n",
      "4                                tweepy + oauth!\n",
      "5        Hi, Aku Cinta Indonesia #jokowi @jokowi\n",
      "6                                        a c b d\n",
      "7                                        a b b d\n",
      "8                tweepy + data sicence indonesia\n",
      "9                                tweepy + oauth!\n"
     ]
    }
   ],
   "source": [
    "print(tweets_df2)"
   ]
  },
  {
   "cell_type": "code",
   "execution_count": 17,
   "metadata": {},
   "outputs": [
    {
     "name": "stdout",
     "output_type": "stream",
     "text": [
      "                                               0  count\n",
      "0                                tweepy + oauth!      3\n",
      "1  #CloudComputing Filkom UB Digital Talent 2019      6\n",
      "2           #BigDataFilkomUB Digital Talent 2019      4\n",
      "3                                 tweepy + auth!      3\n",
      "4                                tweepy + oauth!      3\n",
      "5        Hi, Aku Cinta Indonesia #jokowi @jokowi      6\n",
      "6                                        a c b d      4\n",
      "7                                        a b b d      4\n",
      "8                tweepy + data sicence indonesia      5\n",
      "9                                tweepy + oauth!      3\n"
     ]
    }
   ],
   "source": [
    "# hitung banyak kata tiap tweet\n",
    "tweets_df2['count'] = tweets_df2[0].str.split().str.len()\n",
    "print(tweets_df2)"
   ]
  },
  {
   "cell_type": "code",
   "execution_count": 18,
   "metadata": {
    "scrolled": true
   },
   "outputs": [
    {
     "data": {
      "text/plain": [
       "list"
      ]
     },
     "execution_count": 18,
     "metadata": {},
     "output_type": "execute_result"
    }
   ],
   "source": [
    "type(all_tweets2)"
   ]
  },
  {
   "cell_type": "code",
   "execution_count": 19,
   "metadata": {},
   "outputs": [
    {
     "name": "stdout",
     "output_type": "stream",
     "text": [
      "['tweepy + oauth!', '#CloudComputing Filkom UB Digital Talent 2019', '#BigDataFilkomUB Digital Talent 2019', 'tweepy + auth!', 'tweepy + oauth!', 'Hi, Aku Cinta Indonesia #jokowi @jokowi', 'a c b d', 'a b b d', 'tweepy + data sicence indonesia', 'tweepy + oauth!']\n"
     ]
    }
   ],
   "source": [
    "print(all_tweets2)"
   ]
  },
  {
   "cell_type": "code",
   "execution_count": 20,
   "metadata": {
    "scrolled": false
   },
   "outputs": [
    {
     "name": "stdout",
     "output_type": "stream",
     "text": [
      "['tweepy', '+', 'oauth!', '#cloudcomputing', 'filkom', 'ub', 'digital', 'talent', '2019', '#bigdatafilkomub', 'digital', 'talent', '2019', 'tweepy', '+', 'auth!', 'tweepy', '+', 'oauth!', 'hi,', 'aku', 'cinta', 'indonesia', '#jokowi', '@jokowi', 'a', 'c', 'b', 'd', 'a', 'b', 'b', 'd', 'tweepy', '+', 'data', 'sicence', 'indonesia', 'tweepy', '+', 'oauth!']\n",
      "\n",
      "{'tweepy': 5, '+': 5, 'oauth!': 3, '#cloudcomputing': 1, 'filkom': 1, 'ub': 1, 'digital': 2, 'talent': 2, '2019': 2, '#bigdatafilkomub': 1, 'auth!': 1, 'hi,': 1, 'aku': 1, 'cinta': 1, 'indonesia': 2, '#jokowi': 1, '@jokowi': 1, 'a': 2, 'c': 1, 'b': 3, 'd': 2, 'data': 1, 'sicence': 1}\n",
      "\n",
      "5\n",
      "\n",
      "['tweepy', '+', 'oauth!', '#cloudcomputing', 'filkom', 'ub', 'digital', 'talent', '2019', '#bigdatafilkomub', 'auth!', 'hi,', 'aku', 'cinta', 'indonesia', '#jokowi', '@jokowi', 'a', 'c', 'b', 'd', 'data', 'sicence']\n",
      "[5, 5, 3, 1, 1, 1, 2, 2, 2, 1, 1, 1, 1, 1, 2, 1, 1, 2, 1, 3, 2, 1, 1]\n"
     ]
    }
   ],
   "source": [
    "# split kata_n_other by space\n",
    "split_kata_n_other = []\n",
    "for item in all_tweets2:\n",
    "    split_kata_n_other.extend(item.lower().split()) # gunakan lowe() untuk lowercase\n",
    "    \n",
    "print(split_kata_n_other)\n",
    "\n",
    "print()\n",
    "\n",
    "#hitung split_kata_n_other unik dan frekuensinya dengan dictionary\n",
    "frek_kata_n_other_dict = {} \n",
    "  \n",
    "for keys in split_kata_n_other: \n",
    "    frek_kata_n_other_dict[keys] = frek_kata_n_other_dict.get(keys, 0) + 1\n",
    "\n",
    "print(frek_kata_n_other_dict)\n",
    "\n",
    "print()\n",
    "\n",
    "print(frek_kata_n_other_dict['tweepy'])\n",
    "\n",
    "print()\n",
    "values = []\n",
    "keys = []\n",
    "for key in frek_kata_n_other_dict.keys():\n",
    "    keys.append(key)\n",
    "    values.append(frek_kata_n_other_dict[key])\n",
    "                \n",
    "print(keys)\n",
    "print(values)"
   ]
  },
  {
   "cell_type": "code",
   "execution_count": 21,
   "metadata": {
    "scrolled": true
   },
   "outputs": [
    {
     "data": {
      "image/png": "[encoded data removed]",
      "text/plain": [
       "<Figure size 432x288 with 1 Axes>"
      ]
     },
     "metadata": {},
     "output_type": "display_data"
    }
   ],
   "source": [
    "#plot frek_kata_n_other_dict\n",
    "import matplotlib.pyplot as plt\n",
    "plt.bar(list(frek_kata_n_other_dict.keys()), frek_kata_n_other_dict.values(), color='g')\n",
    "\n",
    "plt.tick_params(axis='x', rotation=90)\n",
    "\n",
    "plt.show()\n",
    "plt.close()"
   ]
  },
  {
   "cell_type": "code",
   "execution_count": 22,
   "metadata": {},
   "outputs": [
    {
     "data": {
      "text/plain": [
       "list"
      ]
     },
     "execution_count": 22,
     "metadata": {},
     "output_type": "execute_result"
    }
   ],
   "source": [
    "type(split_kata_n_other)"
   ]
  },
  {
   "cell_type": "code",
   "execution_count": 23,
   "metadata": {},
   "outputs": [
    {
     "name": "stdout",
     "output_type": "stream",
     "text": [
      "['tweepy', '+', 'oauth!', '#cloudcomputing', 'filkom', 'ub', 'digital', 'talent', '2019', '#bigdatafilkomub', 'digital', 'talent', '2019', 'tweepy', '+', 'auth!', 'tweepy', '+', 'oauth!', 'hi,', 'aku', 'cinta', 'indonesia', '#jokowi', '@jokowi', 'a', 'c', 'b', 'd', 'a', 'b', 'b', 'd', 'tweepy', '+', 'data', 'sicence', 'indonesia', 'tweepy', '+', 'oauth!']\n"
     ]
    }
   ],
   "source": [
    "print(split_kata_n_other)"
   ]
  },
  {
   "cell_type": "code",
   "execution_count": 24,
   "metadata": {},
   "outputs": [],
   "source": [
    "# cleaning\n",
    "import re # menggunakan regular expression\n",
    "for i in range(len(split_kata_n_other)):\n",
    "    split_kata_n_other[i] = re.sub(r'(\\A|\\s)@(\\w+)| (^https?:\\/\\/.*[\\r\\n]*) | (\\A|\\s)[0-9](\\w+) | (\\d)',\"\", split_kata_n_other[i])\n",
    "    split_kata_n_other[i] = re.sub(r'\\d',\"\",split_kata_n_other[i])\n",
    "    split_kata_n_other[i] = re.sub(r'[-+.?%&^*!()/,`~;:< >#]', \"\", split_kata_n_other[i])\n",
    "split_kata_n_other=' '.join(split_kata_n_other).split() # remove empty string pada list"
   ]
  },
  {
   "cell_type": "code",
   "execution_count": 25,
   "metadata": {
    "scrolled": true
   },
   "outputs": [
    {
     "name": "stdout",
     "output_type": "stream",
     "text": [
      "['tweepy', 'oauth', 'cloudcomputing', 'filkom', 'ub', 'digital', 'talent', 'bigdatafilkomub', 'digital', 'talent', 'tweepy', 'auth', 'tweepy', 'oauth', 'hi', 'aku', 'cinta', 'indonesia', 'jokowi', 'a', 'c', 'b', 'd', 'a', 'b', 'b', 'd', 'tweepy', 'data', 'sicence', 'indonesia', 'tweepy', 'oauth']\n"
     ]
    }
   ],
   "source": [
    "print(split_kata_n_other)"
   ]
  },
  {
   "cell_type": "code",
   "execution_count": 26,
   "metadata": {
    "scrolled": true
   },
   "outputs": [
    {
     "name": "stdout",
     "output_type": "stream",
     "text": [
      "{'tweepy': 5, 'oauth': 3, 'cloudcomputing': 1, 'filkom': 1, 'ub': 1, 'digital': 2, 'talent': 2, 'bigdatafilkomub': 1, 'auth': 1, 'hi': 1, 'aku': 1, 'cinta': 1, 'indonesia': 2, 'jokowi': 1, 'a': 2, 'c': 1, 'b': 3, 'd': 2, 'data': 1, 'sicence': 1}\n",
      "\n",
      "5\n",
      "\n",
      "['tweepy', 'oauth', 'cloudcomputing', 'filkom', 'ub', 'digital', 'talent', 'bigdatafilkomub', 'auth', 'hi', 'aku', 'cinta', 'indonesia', 'jokowi', 'a', 'c', 'b', 'd', 'data', 'sicence']\n",
      "[5, 3, 1, 1, 1, 2, 2, 1, 1, 1, 1, 1, 2, 1, 2, 1, 3, 2, 1, 1]\n"
     ]
    }
   ],
   "source": [
    "#hitung split_kata_n_other unik dan frekuensinya dengan dictionary\n",
    "frek_kata_n_other_dict = {} \n",
    "  \n",
    "for keys in split_kata_n_other: \n",
    "    frek_kata_n_other_dict[keys] = frek_kata_n_other_dict.get(keys, 0) + 1\n",
    "\n",
    "print(frek_kata_n_other_dict)\n",
    "\n",
    "print()\n",
    "\n",
    "print(frek_kata_n_other_dict['tweepy'])\n",
    "\n",
    "print()\n",
    "values = []\n",
    "keys = []\n",
    "for key in frek_kata_n_other_dict.keys():\n",
    "    keys.append(key)\n",
    "    values.append(frek_kata_n_other_dict[key])\n",
    "                \n",
    "print(keys)\n",
    "print(values)"
   ]
  },
  {
   "cell_type": "code",
   "execution_count": 27,
   "metadata": {},
   "outputs": [
    {
     "data": {
      "image/png": "[encoded data removed]",
      "text/plain": [
       "<Figure size 432x288 with 1 Axes>"
      ]
     },
     "metadata": {},
     "output_type": "display_data"
    }
   ],
   "source": [
    "#plot frek_kata_n_other_dict\n",
    "import matplotlib.pyplot as plt\n",
    "plt.bar(list(frek_kata_n_other_dict.keys()), frek_kata_n_other_dict.values(), color='g')\n",
    "\n",
    "plt.tick_params(axis='x', rotation=90)\n",
    "\n",
    "plt.show()\n",
    "plt.close()"
   ]
  },
  {
   "cell_type": "markdown",
   "metadata": {
    "collapsed": true
   },
   "source": [
    "<img src=\"img/thumbs-up.png\"></img>"
   ]
  }
 ],
 "metadata": {
  "kernelspec": {
   "display_name": "Python 3",
   "language": "python",
   "name": "python3"
  },
  "language_info": {
   "codemirror_mode": {
    "name": "ipython",
    "version": 3
   },
   "file_extension": ".py",
   "mimetype": "text/x-python",
   "name": "python",
   "nbconvert_exporter": "python",
   "pygments_lexer": "ipython3",
   "version": "3.6.3"
  }
 },
 "nbformat": 4,
 "nbformat_minor": 2
}
